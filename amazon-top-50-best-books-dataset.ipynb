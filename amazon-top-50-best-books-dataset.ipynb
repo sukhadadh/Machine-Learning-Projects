{
 "cells": [
  {
   "cell_type": "code",
   "execution_count": 1,
   "id": "15212e2a",
   "metadata": {
    "_cell_guid": "b1076dfc-b9ad-4769-8c92-a6c4dae69d19",
    "_uuid": "8f2839f25d086af736a60e9eeb907d3b93b6e0e5",
    "execution": {
     "iopub.execute_input": "2022-06-08T09:59:00.039064Z",
     "iopub.status.busy": "2022-06-08T09:59:00.038235Z",
     "iopub.status.idle": "2022-06-08T09:59:00.056838Z",
     "shell.execute_reply": "2022-06-08T09:59:00.055851Z"
    },
    "papermill": {
     "duration": 0.030302,
     "end_time": "2022-06-08T09:59:00.059026",
     "exception": false,
     "start_time": "2022-06-08T09:59:00.028724",
     "status": "completed"
    },
    "tags": []
   },
   "outputs": [
    {
     "name": "stdout",
     "output_type": "stream",
     "text": [
      "/kaggle/input/amazon-top-50-bestselling-books-2009-2019/bestsellers with categories.csv\n"
     ]
    }
   ],
   "source": [
    "# This Python 3 environment comes with many helpful analytics libraries installed\n",
    "# It is defined by the kaggle/python Docker image: https://github.com/kaggle/docker-python\n",
    "# For example, here's several helpful packages to load\n",
    "\n",
    "import numpy as np # linear algebra\n",
    "import pandas as pd # data processing, CSV file I/O (e.g. pd.read_csv)\n",
    "\n",
    "# Input data files are available in the read-only \"../input/\" directory\n",
    "# For example, running this (by clicking run or pressing Shift+Enter) will list all files under the input directory\n",
    "\n",
    "import os\n",
    "for dirname, _, filenames in os.walk('/kaggle/input'):\n",
    "    for filename in filenames:\n",
    "        print(os.path.join(dirname, filename))\n",
    "\n",
    "# You can write up to 20GB to the current directory (/kaggle/working/) that gets preserved as output when you create a version using \"Save & Run All\" \n",
    "# You can also write temporary files to /kaggle/temp/, but they won't be saved outside of the current session"
   ]
  },
  {
   "cell_type": "markdown",
   "id": "f533aba9",
   "metadata": {
    "papermill": {
     "duration": 0.006692,
     "end_time": "2022-06-08T09:59:00.073300",
     "exception": false,
     "start_time": "2022-06-08T09:59:00.066608",
     "status": "completed"
    },
    "tags": []
   },
   "source": [
    "# Collaborative filtering\n",
    "Collaborative filtering approach builds a model from a user’s past behaviors (items previously purchased or selected and/or numerical ratings given to those items) as well as similar decisions made by other users. This model is then used to predict items (or ratings for items) that the user may have an interest in."
   ]
  },
  {
   "cell_type": "markdown",
   "id": "a24c4770",
   "metadata": {
    "papermill": {
     "duration": 0.006577,
     "end_time": "2022-06-08T09:59:00.087067",
     "exception": false,
     "start_time": "2022-06-08T09:59:00.080490",
     "status": "completed"
    },
    "tags": []
   },
   "source": [
    "# Cosine similarity \n",
    "It measures the similarity between two vectors of an inner product space. It is measured by the cosine of the angle between two vectors and determines whether two vectors are pointing in roughly the same direction. It is often used to measure document similarity in text analysis."
   ]
  },
  {
   "attachments": {
    "802ebfc6-036c-4752-879a-f444c63a9097.png": {
     "image/png": "[encoded data removed]"
    }
   },
   "cell_type": "markdown",
   "id": "6cb7ab58",
   "metadata": {
    "papermill": {
     "duration": 0.006551,
     "end_time": "2022-06-08T09:59:00.100423",
     "exception": false,
     "start_time": "2022-06-08T09:59:00.093872",
     "status": "completed"
    },
    "tags": []
   },
   "source": [
    "![images.png](attachment:802ebfc6-036c-4752-879a-f444c63a9097.png)"
   ]
  },
  {
   "cell_type": "markdown",
   "id": "f40c74b1",
   "metadata": {
    "papermill": {
     "duration": 0.006517,
     "end_time": "2022-06-08T09:59:00.113707",
     "exception": false,
     "start_time": "2022-06-08T09:59:00.107190",
     "status": "completed"
    },
    "tags": []
   },
   "source": [
    "# K nearest neighbors algorithm\n",
    "KNN does not make any assumptions on the underlying data distribution but it relies on item feature similarity. When KNN makes inference about a book, KNN will calculate the “distance” between the target book and every other book in its database, then it ranks its distances and returns the top K nearest neighbor book as the most similar book recommendations."
   ]
  },
  {
   "cell_type": "markdown",
   "id": "6446e5c1",
   "metadata": {
    "papermill": {
     "duration": 0.006428,
     "end_time": "2022-06-08T09:59:00.126951",
     "exception": false,
     "start_time": "2022-06-08T09:59:00.120523",
     "status": "completed"
    },
    "tags": []
   },
   "source": [
    "# 1. Import Libraries"
   ]
  },
  {
   "cell_type": "code",
   "execution_count": 2,
   "id": "64673dd8",
   "metadata": {
    "execution": {
     "iopub.execute_input": "2022-06-08T09:59:00.141926Z",
     "iopub.status.busy": "2022-06-08T09:59:00.141541Z",
     "iopub.status.idle": "2022-06-08T09:59:01.209467Z",
     "shell.execute_reply": "2022-06-08T09:59:01.208248Z"
    },
    "papermill": {
     "duration": 1.07784,
     "end_time": "2022-06-08T09:59:01.211529",
     "exception": false,
     "start_time": "2022-06-08T09:59:00.133689",
     "status": "completed"
    },
    "tags": []
   },
   "outputs": [
    {
     "name": "stdout",
     "output_type": "stream",
     "text": [
      "libraries imported..\n"
     ]
    }
   ],
   "source": [
    "import numpy as np\n",
    "import pandas as pd\n",
    "import matplotlib.pyplot as plt\n",
    "import seaborn as sns\n",
    "%matplotlib inline\n",
    "print(\"libraries imported..\")"
   ]
  },
  {
   "cell_type": "markdown",
   "id": "c6a05121",
   "metadata": {
    "papermill": {
     "duration": 0.006633,
     "end_time": "2022-06-08T09:59:01.225388",
     "exception": false,
     "start_time": "2022-06-08T09:59:01.218755",
     "status": "completed"
    },
    "tags": []
   },
   "source": [
    "# 2.Load Dataset"
   ]
  },
  {
   "cell_type": "code",
   "execution_count": 3,
   "id": "7dd94b73",
   "metadata": {
    "execution": {
     "iopub.execute_input": "2022-06-08T09:59:01.248730Z",
     "iopub.status.busy": "2022-06-08T09:59:01.248335Z",
     "iopub.status.idle": "2022-06-08T09:59:01.265671Z",
     "shell.execute_reply": "2022-06-08T09:59:01.264874Z"
    },
    "papermill": {
     "duration": 0.03277,
     "end_time": "2022-06-08T09:59:01.267798",
     "exception": false,
     "start_time": "2022-06-08T09:59:01.235028",
     "status": "completed"
    },
    "tags": []
   },
   "outputs": [],
   "source": [
    "df = pd.read_csv(\"../input/amazon-top-50-bestselling-books-2009-2019/bestsellers with categories.csv\")"
   ]
  },
  {
   "cell_type": "markdown",
   "id": "1eb0fd37",
   "metadata": {
    "papermill": {
     "duration": 0.009439,
     "end_time": "2022-06-08T09:59:01.284593",
     "exception": false,
     "start_time": "2022-06-08T09:59:01.275154",
     "status": "completed"
    },
    "tags": []
   },
   "source": [
    "# 3. EDA"
   ]
  },
  {
   "cell_type": "code",
   "execution_count": 4,
   "id": "290a3fdd",
   "metadata": {
    "execution": {
     "iopub.execute_input": "2022-06-08T09:59:01.306175Z",
     "iopub.status.busy": "2022-06-08T09:59:01.305585Z",
     "iopub.status.idle": "2022-06-08T09:59:01.328492Z",
     "shell.execute_reply": "2022-06-08T09:59:01.327586Z"
    },
    "papermill": {
     "duration": 0.034354,
     "end_time": "2022-06-08T09:59:01.330714",
     "exception": false,
     "start_time": "2022-06-08T09:59:01.296360",
     "status": "completed"
    },
    "tags": []
   },
   "outputs": [
    {
     "data": {
      "text/html": [
       "<div>\n",
       "<style scoped>\n",
       "    .dataframe tbody tr th:only-of-type {\n",
       "        vertical-align: middle;\n",
       "    }\n",
       "\n",
       "    .dataframe tbody tr th {\n",
       "        vertical-align: top;\n",
       "    }\n",
       "\n",
       "    .dataframe thead th {\n",
       "        text-align: right;\n",
       "    }\n",
       "</style>\n",
       "<table border=\"1\" class=\"dataframe\">\n",
       "  <thead>\n",
       "    <tr style=\"text-align: right;\">\n",
       "      <th></th>\n",
       "      <th>Name</th>\n",
       "      <th>Author</th>\n",
       "      <th>User Rating</th>\n",
       "      <th>Reviews</th>\n",
       "      <th>Price</th>\n",
       "      <th>Year</th>\n",
       "      <th>Genre</th>\n",
       "    </tr>\n",
       "  </thead>\n",
       "  <tbody>\n",
       "    <tr>\n",
       "      <th>0</th>\n",
       "      <td>10-Day Green Smoothie Cleanse</td>\n",
       "      <td>JJ Smith</td>\n",
       "      <td>4.7</td>\n",
       "      <td>17350</td>\n",
       "      <td>8</td>\n",
       "      <td>2016</td>\n",
       "      <td>Non Fiction</td>\n",
       "    </tr>\n",
       "    <tr>\n",
       "      <th>1</th>\n",
       "      <td>11/22/63: A Novel</td>\n",
       "      <td>Stephen King</td>\n",
       "      <td>4.6</td>\n",
       "      <td>2052</td>\n",
       "      <td>22</td>\n",
       "      <td>2011</td>\n",
       "      <td>Fiction</td>\n",
       "    </tr>\n",
       "    <tr>\n",
       "      <th>2</th>\n",
       "      <td>12 Rules for Life: An Antidote to Chaos</td>\n",
       "      <td>Jordan B. Peterson</td>\n",
       "      <td>4.7</td>\n",
       "      <td>18979</td>\n",
       "      <td>15</td>\n",
       "      <td>2018</td>\n",
       "      <td>Non Fiction</td>\n",
       "    </tr>\n",
       "    <tr>\n",
       "      <th>3</th>\n",
       "      <td>1984 (Signet Classics)</td>\n",
       "      <td>George Orwell</td>\n",
       "      <td>4.7</td>\n",
       "      <td>21424</td>\n",
       "      <td>6</td>\n",
       "      <td>2017</td>\n",
       "      <td>Fiction</td>\n",
       "    </tr>\n",
       "    <tr>\n",
       "      <th>4</th>\n",
       "      <td>5,000 Awesome Facts (About Everything!) (Natio...</td>\n",
       "      <td>National Geographic Kids</td>\n",
       "      <td>4.8</td>\n",
       "      <td>7665</td>\n",
       "      <td>12</td>\n",
       "      <td>2019</td>\n",
       "      <td>Non Fiction</td>\n",
       "    </tr>\n",
       "  </tbody>\n",
       "</table>\n",
       "</div>"
      ],
      "text/plain": [
       "                                                Name  \\\n",
       "0                      10-Day Green Smoothie Cleanse   \n",
       "1                                  11/22/63: A Novel   \n",
       "2            12 Rules for Life: An Antidote to Chaos   \n",
       "3                             1984 (Signet Classics)   \n",
       "4  5,000 Awesome Facts (About Everything!) (Natio...   \n",
       "\n",
       "                     Author  User Rating  Reviews  Price  Year        Genre  \n",
       "0                  JJ Smith          4.7    17350      8  2016  Non Fiction  \n",
       "1              Stephen King          4.6     2052     22  2011      Fiction  \n",
       "2        Jordan B. Peterson          4.7    18979     15  2018  Non Fiction  \n",
       "3             George Orwell          4.7    21424      6  2017      Fiction  \n",
       "4  National Geographic Kids          4.8     7665     12  2019  Non Fiction  "
      ]
     },
     "execution_count": 4,
     "metadata": {},
     "output_type": "execute_result"
    }
   ],
   "source": [
    "df.head()"
   ]
  },
  {
   "cell_type": "code",
   "execution_count": 5,
   "id": "49fd1236",
   "metadata": {
    "execution": {
     "iopub.execute_input": "2022-06-08T09:59:01.350756Z",
     "iopub.status.busy": "2022-06-08T09:59:01.350122Z",
     "iopub.status.idle": "2022-06-08T09:59:01.356304Z",
     "shell.execute_reply": "2022-06-08T09:59:01.355357Z"
    },
    "papermill": {
     "duration": 0.017217,
     "end_time": "2022-06-08T09:59:01.358352",
     "exception": false,
     "start_time": "2022-06-08T09:59:01.341135",
     "status": "completed"
    },
    "tags": []
   },
   "outputs": [
    {
     "data": {
      "text/plain": [
       "Index(['Name', 'Author', 'User Rating', 'Reviews', 'Price', 'Year', 'Genre'], dtype='object')"
      ]
     },
     "execution_count": 5,
     "metadata": {},
     "output_type": "execute_result"
    }
   ],
   "source": [
    "df.columns"
   ]
  },
  {
   "cell_type": "code",
   "execution_count": 6,
   "id": "f8f48065",
   "metadata": {
    "execution": {
     "iopub.execute_input": "2022-06-08T09:59:01.375984Z",
     "iopub.status.busy": "2022-06-08T09:59:01.375630Z",
     "iopub.status.idle": "2022-06-08T09:59:01.381964Z",
     "shell.execute_reply": "2022-06-08T09:59:01.380921Z"
    },
    "papermill": {
     "duration": 0.017097,
     "end_time": "2022-06-08T09:59:01.383892",
     "exception": false,
     "start_time": "2022-06-08T09:59:01.366795",
     "status": "completed"
    },
    "tags": []
   },
   "outputs": [
    {
     "data": {
      "text/plain": [
       "(550, 7)"
      ]
     },
     "execution_count": 6,
     "metadata": {},
     "output_type": "execute_result"
    }
   ],
   "source": [
    "df.shape"
   ]
  },
  {
   "cell_type": "code",
   "execution_count": 7,
   "id": "f589470c",
   "metadata": {
    "execution": {
     "iopub.execute_input": "2022-06-08T09:59:01.400738Z",
     "iopub.status.busy": "2022-06-08T09:59:01.400386Z",
     "iopub.status.idle": "2022-06-08T09:59:01.408478Z",
     "shell.execute_reply": "2022-06-08T09:59:01.407841Z"
    },
    "papermill": {
     "duration": 0.018383,
     "end_time": "2022-06-08T09:59:01.410259",
     "exception": false,
     "start_time": "2022-06-08T09:59:01.391876",
     "status": "completed"
    },
    "tags": []
   },
   "outputs": [
    {
     "data": {
      "text/plain": [
       "Name           0\n",
       "Author         0\n",
       "User Rating    0\n",
       "Reviews        0\n",
       "Price          0\n",
       "Year           0\n",
       "Genre          0\n",
       "dtype: int64"
      ]
     },
     "execution_count": 7,
     "metadata": {},
     "output_type": "execute_result"
    }
   ],
   "source": [
    "df.isnull().sum()"
   ]
  },
  {
   "cell_type": "code",
   "execution_count": 8,
   "id": "9b437109",
   "metadata": {
    "execution": {
     "iopub.execute_input": "2022-06-08T09:59:01.426746Z",
     "iopub.status.busy": "2022-06-08T09:59:01.426372Z",
     "iopub.status.idle": "2022-06-08T09:59:01.440639Z",
     "shell.execute_reply": "2022-06-08T09:59:01.439934Z"
    },
    "papermill": {
     "duration": 0.024576,
     "end_time": "2022-06-08T09:59:01.442357",
     "exception": false,
     "start_time": "2022-06-08T09:59:01.417781",
     "status": "completed"
    },
    "tags": []
   },
   "outputs": [
    {
     "data": {
      "text/plain": [
       "0      False\n",
       "1      False\n",
       "2      False\n",
       "3      False\n",
       "4      False\n",
       "       ...  \n",
       "545    False\n",
       "546    False\n",
       "547    False\n",
       "548    False\n",
       "549    False\n",
       "Length: 550, dtype: bool"
      ]
     },
     "execution_count": 8,
     "metadata": {},
     "output_type": "execute_result"
    }
   ],
   "source": [
    "df.duplicated()"
   ]
  },
  {
   "cell_type": "markdown",
   "id": "6a9418f6",
   "metadata": {
    "papermill": {
     "duration": 0.007232,
     "end_time": "2022-06-08T09:59:01.457275",
     "exception": false,
     "start_time": "2022-06-08T09:59:01.450043",
     "status": "completed"
    },
    "tags": []
   },
   "source": [
    "# 4.Visualisation"
   ]
  },
  {
   "cell_type": "code",
   "execution_count": 9,
   "id": "617dcd26",
   "metadata": {
    "execution": {
     "iopub.execute_input": "2022-06-08T09:59:01.474296Z",
     "iopub.status.busy": "2022-06-08T09:59:01.473271Z",
     "iopub.status.idle": "2022-06-08T09:59:01.731879Z",
     "shell.execute_reply": "2022-06-08T09:59:01.730916Z"
    },
    "papermill": {
     "duration": 0.269247,
     "end_time": "2022-06-08T09:59:01.734044",
     "exception": false,
     "start_time": "2022-06-08T09:59:01.464797",
     "status": "completed"
    },
    "tags": []
   },
   "outputs": [
    {
     "data": {
      "image/png": "[encoded data removed]",
      "text/plain": [
       "<Figure size 432x288 with 1 Axes>"
      ]
     },
     "metadata": {
      "needs_background": "light"
     },
     "output_type": "display_data"
    }
   ],
   "source": [
    "plt.rc('font',size=15)\n",
    "df['User Rating'].value_counts(sort = False).plot(kind ='bar')\n",
    "plt.title(\"rating distribution\")\n",
    "plt.xlabel(\"Rating\")\n",
    "plt.ylabel(\"Count\")\n",
    "plt.show()"
   ]
  },
  {
   "cell_type": "markdown",
   "id": "488f4510",
   "metadata": {
    "papermill": {
     "duration": 0.00803,
     "end_time": "2022-06-08T09:59:01.750042",
     "exception": false,
     "start_time": "2022-06-08T09:59:01.742012",
     "status": "completed"
    },
    "tags": []
   },
   "source": [
    "Maximum rating given by users is **4.8**"
   ]
  },
  {
   "cell_type": "code",
   "execution_count": 10,
   "id": "e438ae0d",
   "metadata": {
    "execution": {
     "iopub.execute_input": "2022-06-08T09:59:01.767728Z",
     "iopub.status.busy": "2022-06-08T09:59:01.767355Z",
     "iopub.status.idle": "2022-06-08T09:59:01.934865Z",
     "shell.execute_reply": "2022-06-08T09:59:01.933795Z"
    },
    "papermill": {
     "duration": 0.178901,
     "end_time": "2022-06-08T09:59:01.936989",
     "exception": false,
     "start_time": "2022-06-08T09:59:01.758088",
     "status": "completed"
    },
    "tags": []
   },
   "outputs": [
    {
     "data": {
      "image/png": "[encoded data removed]",
      "text/plain": [
       "<Figure size 432x288 with 1 Axes>"
      ]
     },
     "metadata": {
      "needs_background": "light"
     },
     "output_type": "display_data"
    }
   ],
   "source": [
    "plt.rc('font',size=15)\n",
    "df['Genre'].value_counts(sort = False).plot(kind ='bar')\n",
    "plt.title(\"Genre distribution\")\n",
    "plt.xlabel(\"Genre\")\n",
    "plt.ylabel(\"Count\")\n",
    "plt.show()"
   ]
  },
  {
   "cell_type": "markdown",
   "id": "a47323e8",
   "metadata": {
    "papermill": {
     "duration": 0.007775,
     "end_time": "2022-06-08T09:59:01.953358",
     "exception": false,
     "start_time": "2022-06-08T09:59:01.945583",
     "status": "completed"
    },
    "tags": []
   },
   "source": [
    "graph of **genre**"
   ]
  },
  {
   "cell_type": "code",
   "execution_count": 11,
   "id": "4e044a82",
   "metadata": {
    "execution": {
     "iopub.execute_input": "2022-06-08T09:59:01.970957Z",
     "iopub.status.busy": "2022-06-08T09:59:01.970575Z",
     "iopub.status.idle": "2022-06-08T09:59:02.461746Z",
     "shell.execute_reply": "2022-06-08T09:59:02.461042Z"
    },
    "papermill": {
     "duration": 0.502147,
     "end_time": "2022-06-08T09:59:02.463556",
     "exception": false,
     "start_time": "2022-06-08T09:59:01.961409",
     "status": "completed"
    },
    "tags": []
   },
   "outputs": [
    {
     "data": {
      "image/png": "[encoded data removed]",
      "text/plain": [
       "<Figure size 720x720 with 4 Axes>"
      ]
     },
     "metadata": {
      "needs_background": "light"
     },
     "output_type": "display_data"
    }
   ],
   "source": [
    "df.hist(figsize = (10,10))\n",
    "plt.show()"
   ]
  },
  {
   "cell_type": "markdown",
   "id": "3bd794f2",
   "metadata": {
    "papermill": {
     "duration": 0.008393,
     "end_time": "2022-06-08T09:59:02.480772",
     "exception": false,
     "start_time": "2022-06-08T09:59:02.472379",
     "status": "completed"
    },
    "tags": []
   },
   "source": [
    "# 5. Some Useful Insights"
   ]
  },
  {
   "cell_type": "code",
   "execution_count": 12,
   "id": "c37fa5a2",
   "metadata": {
    "execution": {
     "iopub.execute_input": "2022-06-08T09:59:02.500076Z",
     "iopub.status.busy": "2022-06-08T09:59:02.499576Z",
     "iopub.status.idle": "2022-06-08T09:59:02.510695Z",
     "shell.execute_reply": "2022-06-08T09:59:02.510073Z"
    },
    "papermill": {
     "duration": 0.022966,
     "end_time": "2022-06-08T09:59:02.512437",
     "exception": false,
     "start_time": "2022-06-08T09:59:02.489471",
     "status": "completed"
    },
    "tags": []
   },
   "outputs": [
    {
     "data": {
      "text/html": [
       "<div>\n",
       "<style scoped>\n",
       "    .dataframe tbody tr th:only-of-type {\n",
       "        vertical-align: middle;\n",
       "    }\n",
       "\n",
       "    .dataframe tbody tr th {\n",
       "        vertical-align: top;\n",
       "    }\n",
       "\n",
       "    .dataframe thead th {\n",
       "        text-align: right;\n",
       "    }\n",
       "</style>\n",
       "<table border=\"1\" class=\"dataframe\">\n",
       "  <thead>\n",
       "    <tr style=\"text-align: right;\">\n",
       "      <th></th>\n",
       "      <th>Name</th>\n",
       "      <th>Author</th>\n",
       "      <th>User Rating</th>\n",
       "      <th>Reviews</th>\n",
       "      <th>Price</th>\n",
       "      <th>Year</th>\n",
       "      <th>Genre</th>\n",
       "    </tr>\n",
       "  </thead>\n",
       "  <tbody>\n",
       "    <tr>\n",
       "      <th>1</th>\n",
       "      <td>11/22/63: A Novel</td>\n",
       "      <td>Stephen King</td>\n",
       "      <td>4.6</td>\n",
       "      <td>2052</td>\n",
       "      <td>22</td>\n",
       "      <td>2011</td>\n",
       "      <td>Fiction</td>\n",
       "    </tr>\n",
       "    <tr>\n",
       "      <th>79</th>\n",
       "      <td>Doctor Sleep: A Novel</td>\n",
       "      <td>Stephen King</td>\n",
       "      <td>4.7</td>\n",
       "      <td>15845</td>\n",
       "      <td>13</td>\n",
       "      <td>2013</td>\n",
       "      <td>Fiction</td>\n",
       "    </tr>\n",
       "    <tr>\n",
       "      <th>194</th>\n",
       "      <td>Joyland (Hard Case Crime)</td>\n",
       "      <td>Stephen King</td>\n",
       "      <td>4.5</td>\n",
       "      <td>4748</td>\n",
       "      <td>12</td>\n",
       "      <td>2013</td>\n",
       "      <td>Fiction</td>\n",
       "    </tr>\n",
       "    <tr>\n",
       "      <th>520</th>\n",
       "      <td>Under the Dome: A Novel</td>\n",
       "      <td>Stephen King</td>\n",
       "      <td>4.3</td>\n",
       "      <td>6740</td>\n",
       "      <td>20</td>\n",
       "      <td>2009</td>\n",
       "      <td>Fiction</td>\n",
       "    </tr>\n",
       "  </tbody>\n",
       "</table>\n",
       "</div>"
      ],
      "text/plain": [
       "                          Name        Author  User Rating  Reviews  Price  \\\n",
       "1            11/22/63: A Novel  Stephen King          4.6     2052     22   \n",
       "79       Doctor Sleep: A Novel  Stephen King          4.7    15845     13   \n",
       "194  Joyland (Hard Case Crime)  Stephen King          4.5     4748     12   \n",
       "520    Under the Dome: A Novel  Stephen King          4.3     6740     20   \n",
       "\n",
       "     Year    Genre  \n",
       "1    2011  Fiction  \n",
       "79   2013  Fiction  \n",
       "194  2013  Fiction  \n",
       "520  2009  Fiction  "
      ]
     },
     "execution_count": 12,
     "metadata": {},
     "output_type": "execute_result"
    }
   ],
   "source": [
    "df[df['Author'] == \"Stephen King\"]"
   ]
  },
  {
   "cell_type": "markdown",
   "id": "6497a5ca",
   "metadata": {
    "papermill": {
     "duration": 0.008893,
     "end_time": "2022-06-08T09:59:02.530287",
     "exception": false,
     "start_time": "2022-06-08T09:59:02.521394",
     "status": "completed"
    },
    "tags": []
   },
   "source": [
    "books of stephen king"
   ]
  },
  {
   "cell_type": "code",
   "execution_count": 13,
   "id": "fb6719bf",
   "metadata": {
    "execution": {
     "iopub.execute_input": "2022-06-08T09:59:02.550029Z",
     "iopub.status.busy": "2022-06-08T09:59:02.549423Z",
     "iopub.status.idle": "2022-06-08T09:59:02.557557Z",
     "shell.execute_reply": "2022-06-08T09:59:02.556766Z"
    },
    "papermill": {
     "duration": 0.02006,
     "end_time": "2022-06-08T09:59:02.559410",
     "exception": false,
     "start_time": "2022-06-08T09:59:02.539350",
     "status": "completed"
    },
    "tags": []
   },
   "outputs": [
    {
     "data": {
      "text/plain": [
       "Publication Manual of the American Psychological Association, 6th Edition       10\n",
       "StrengthsFinder 2.0                                                              9\n",
       "Oh, the Places You'll Go!                                                        8\n",
       "The Very Hungry Caterpillar                                                      7\n",
       "The 7 Habits of Highly Effective People: Powerful Lessons in Personal Change     7\n",
       "                                                                                ..\n",
       "Humans of New York : Stories                                                     1\n",
       "Howard Stern Comes Again                                                         1\n",
       "Homebody: A Guide to Creating Spaces You Never Want to Leave                     1\n",
       "Have a Little Faith: A True Story                                                1\n",
       "Night (Night)                                                                    1\n",
       "Name: Name, Length: 351, dtype: int64"
      ]
     },
     "execution_count": 13,
     "metadata": {},
     "output_type": "execute_result"
    }
   ],
   "source": [
    "df[df['User Rating'] > 3.0]['Name'].value_counts()"
   ]
  },
  {
   "cell_type": "markdown",
   "id": "a6407ad1",
   "metadata": {
    "papermill": {
     "duration": 0.008862,
     "end_time": "2022-06-08T09:59:02.577271",
     "exception": false,
     "start_time": "2022-06-08T09:59:02.568409",
     "status": "completed"
    },
    "tags": []
   },
   "source": [
    "books having ratings greater than 3.0"
   ]
  },
  {
   "cell_type": "code",
   "execution_count": 14,
   "id": "07ad3cec",
   "metadata": {
    "execution": {
     "iopub.execute_input": "2022-06-08T09:59:02.597297Z",
     "iopub.status.busy": "2022-06-08T09:59:02.596681Z",
     "iopub.status.idle": "2022-06-08T09:59:02.601663Z",
     "shell.execute_reply": "2022-06-08T09:59:02.600567Z"
    },
    "papermill": {
     "duration": 0.018088,
     "end_time": "2022-06-08T09:59:02.604441",
     "exception": false,
     "start_time": "2022-06-08T09:59:02.586353",
     "status": "completed"
    },
    "tags": []
   },
   "outputs": [
    {
     "name": "stdout",
     "output_type": "stream",
     "text": [
      "Maximum reviews 87841\n"
     ]
    }
   ],
   "source": [
    "print(\"Maximum reviews\",df['Reviews'].max())"
   ]
  },
  {
   "cell_type": "code",
   "execution_count": 15,
   "id": "8e73270d",
   "metadata": {
    "execution": {
     "iopub.execute_input": "2022-06-08T09:59:02.625449Z",
     "iopub.status.busy": "2022-06-08T09:59:02.624700Z",
     "iopub.status.idle": "2022-06-08T09:59:02.630552Z",
     "shell.execute_reply": "2022-06-08T09:59:02.629240Z"
    },
    "papermill": {
     "duration": 0.017734,
     "end_time": "2022-06-08T09:59:02.632231",
     "exception": false,
     "start_time": "2022-06-08T09:59:02.614497",
     "status": "completed"
    },
    "tags": []
   },
   "outputs": [
    {
     "name": "stdout",
     "output_type": "stream",
     "text": [
      "Maximum price of book 105\n"
     ]
    }
   ],
   "source": [
    "print(\"Maximum price of book\",df['Price'].max())"
   ]
  },
  {
   "cell_type": "markdown",
   "id": "29a6aaeb",
   "metadata": {
    "papermill": {
     "duration": 0.009153,
     "end_time": "2022-06-08T09:59:02.650603",
     "exception": false,
     "start_time": "2022-06-08T09:59:02.641450",
     "status": "completed"
    },
    "tags": []
   },
   "source": [
    "# 6. Recommendation System"
   ]
  },
  {
   "cell_type": "code",
   "execution_count": 16,
   "id": "9cf40019",
   "metadata": {
    "execution": {
     "iopub.execute_input": "2022-06-08T09:59:02.670694Z",
     "iopub.status.busy": "2022-06-08T09:59:02.669746Z",
     "iopub.status.idle": "2022-06-08T09:59:02.682233Z",
     "shell.execute_reply": "2022-06-08T09:59:02.681532Z"
    },
    "papermill": {
     "duration": 0.024265,
     "end_time": "2022-06-08T09:59:02.684022",
     "exception": false,
     "start_time": "2022-06-08T09:59:02.659757",
     "status": "completed"
    },
    "tags": []
   },
   "outputs": [
    {
     "data": {
      "text/html": [
       "<div>\n",
       "<style scoped>\n",
       "    .dataframe tbody tr th:only-of-type {\n",
       "        vertical-align: middle;\n",
       "    }\n",
       "\n",
       "    .dataframe tbody tr th {\n",
       "        vertical-align: top;\n",
       "    }\n",
       "\n",
       "    .dataframe thead th {\n",
       "        text-align: right;\n",
       "    }\n",
       "</style>\n",
       "<table border=\"1\" class=\"dataframe\">\n",
       "  <thead>\n",
       "    <tr style=\"text-align: right;\">\n",
       "      <th></th>\n",
       "      <th>User Rating</th>\n",
       "    </tr>\n",
       "    <tr>\n",
       "      <th>Name</th>\n",
       "      <th></th>\n",
       "    </tr>\n",
       "  </thead>\n",
       "  <tbody>\n",
       "    <tr>\n",
       "      <th>10-Day Green Smoothie Cleanse</th>\n",
       "      <td>4.7</td>\n",
       "    </tr>\n",
       "    <tr>\n",
       "      <th>11/22/63: A Novel</th>\n",
       "      <td>4.6</td>\n",
       "    </tr>\n",
       "    <tr>\n",
       "      <th>12 Rules for Life: An Antidote to Chaos</th>\n",
       "      <td>4.7</td>\n",
       "    </tr>\n",
       "    <tr>\n",
       "      <th>1984 (Signet Classics)</th>\n",
       "      <td>4.7</td>\n",
       "    </tr>\n",
       "    <tr>\n",
       "      <th>5,000 Awesome Facts (About Everything!) (National Geographic Kids)</th>\n",
       "      <td>4.8</td>\n",
       "    </tr>\n",
       "  </tbody>\n",
       "</table>\n",
       "</div>"
      ],
      "text/plain": [
       "                                                    User Rating\n",
       "Name                                                           \n",
       "10-Day Green Smoothie Cleanse                               4.7\n",
       "11/22/63: A Novel                                           4.6\n",
       "12 Rules for Life: An Antidote to Chaos                     4.7\n",
       "1984 (Signet Classics)                                      4.7\n",
       "5,000 Awesome Facts (About Everything!) (Nation...          4.8"
      ]
     },
     "execution_count": 16,
     "metadata": {},
     "output_type": "execute_result"
    }
   ],
   "source": [
    "ratings =pd.DataFrame(df.groupby('Name')['User Rating'].mean())\n",
    "ratings.head()"
   ]
  },
  {
   "cell_type": "code",
   "execution_count": 17,
   "id": "8b3b48f3",
   "metadata": {
    "execution": {
     "iopub.execute_input": "2022-06-08T09:59:02.704426Z",
     "iopub.status.busy": "2022-06-08T09:59:02.704018Z",
     "iopub.status.idle": "2022-06-08T09:59:02.709988Z",
     "shell.execute_reply": "2022-06-08T09:59:02.709274Z"
    },
    "papermill": {
     "duration": 0.018616,
     "end_time": "2022-06-08T09:59:02.712012",
     "exception": false,
     "start_time": "2022-06-08T09:59:02.693396",
     "status": "completed"
    },
    "tags": []
   },
   "outputs": [],
   "source": [
    "ratings['rating_numbers'] = pd.DataFrame(df.groupby('Name')['User Rating'].count())"
   ]
  },
  {
   "cell_type": "code",
   "execution_count": 18,
   "id": "291db3c4",
   "metadata": {
    "execution": {
     "iopub.execute_input": "2022-06-08T09:59:02.732308Z",
     "iopub.status.busy": "2022-06-08T09:59:02.731897Z",
     "iopub.status.idle": "2022-06-08T09:59:02.741782Z",
     "shell.execute_reply": "2022-06-08T09:59:02.740945Z"
    },
    "papermill": {
     "duration": 0.022378,
     "end_time": "2022-06-08T09:59:02.743804",
     "exception": false,
     "start_time": "2022-06-08T09:59:02.721426",
     "status": "completed"
    },
    "tags": []
   },
   "outputs": [
    {
     "data": {
      "text/html": [
       "<div>\n",
       "<style scoped>\n",
       "    .dataframe tbody tr th:only-of-type {\n",
       "        vertical-align: middle;\n",
       "    }\n",
       "\n",
       "    .dataframe tbody tr th {\n",
       "        vertical-align: top;\n",
       "    }\n",
       "\n",
       "    .dataframe thead th {\n",
       "        text-align: right;\n",
       "    }\n",
       "</style>\n",
       "<table border=\"1\" class=\"dataframe\">\n",
       "  <thead>\n",
       "    <tr style=\"text-align: right;\">\n",
       "      <th></th>\n",
       "      <th>User Rating</th>\n",
       "      <th>rating_numbers</th>\n",
       "    </tr>\n",
       "    <tr>\n",
       "      <th>Name</th>\n",
       "      <th></th>\n",
       "      <th></th>\n",
       "    </tr>\n",
       "  </thead>\n",
       "  <tbody>\n",
       "    <tr>\n",
       "      <th>10-Day Green Smoothie Cleanse</th>\n",
       "      <td>4.7</td>\n",
       "      <td>1</td>\n",
       "    </tr>\n",
       "    <tr>\n",
       "      <th>11/22/63: A Novel</th>\n",
       "      <td>4.6</td>\n",
       "      <td>1</td>\n",
       "    </tr>\n",
       "    <tr>\n",
       "      <th>12 Rules for Life: An Antidote to Chaos</th>\n",
       "      <td>4.7</td>\n",
       "      <td>1</td>\n",
       "    </tr>\n",
       "    <tr>\n",
       "      <th>1984 (Signet Classics)</th>\n",
       "      <td>4.7</td>\n",
       "      <td>1</td>\n",
       "    </tr>\n",
       "    <tr>\n",
       "      <th>5,000 Awesome Facts (About Everything!) (National Geographic Kids)</th>\n",
       "      <td>4.8</td>\n",
       "      <td>1</td>\n",
       "    </tr>\n",
       "  </tbody>\n",
       "</table>\n",
       "</div>"
      ],
      "text/plain": [
       "                                                    User Rating  \\\n",
       "Name                                                              \n",
       "10-Day Green Smoothie Cleanse                               4.7   \n",
       "11/22/63: A Novel                                           4.6   \n",
       "12 Rules for Life: An Antidote to Chaos                     4.7   \n",
       "1984 (Signet Classics)                                      4.7   \n",
       "5,000 Awesome Facts (About Everything!) (Nation...          4.8   \n",
       "\n",
       "                                                    rating_numbers  \n",
       "Name                                                                \n",
       "10-Day Green Smoothie Cleanse                                    1  \n",
       "11/22/63: A Novel                                                1  \n",
       "12 Rules for Life: An Antidote to Chaos                          1  \n",
       "1984 (Signet Classics)                                           1  \n",
       "5,000 Awesome Facts (About Everything!) (Nation...               1  "
      ]
     },
     "execution_count": 18,
     "metadata": {},
     "output_type": "execute_result"
    }
   ],
   "source": [
    "ratings.head()"
   ]
  },
  {
   "cell_type": "code",
   "execution_count": 19,
   "id": "93bd837d",
   "metadata": {
    "execution": {
     "iopub.execute_input": "2022-06-08T09:59:02.764275Z",
     "iopub.status.busy": "2022-06-08T09:59:02.763884Z",
     "iopub.status.idle": "2022-06-08T09:59:02.788825Z",
     "shell.execute_reply": "2022-06-08T09:59:02.788104Z"
    },
    "papermill": {
     "duration": 0.03744,
     "end_time": "2022-06-08T09:59:02.790881",
     "exception": false,
     "start_time": "2022-06-08T09:59:02.753441",
     "status": "completed"
    },
    "tags": []
   },
   "outputs": [],
   "source": [
    "bookRate = df.pivot_table(index='Name', columns=df.index, values='User Rating')\n",
    "bookRate.fillna(0, inplace=True)"
   ]
  },
  {
   "cell_type": "code",
   "execution_count": 20,
   "id": "83a460b0",
   "metadata": {
    "execution": {
     "iopub.execute_input": "2022-06-08T09:59:02.812583Z",
     "iopub.status.busy": "2022-06-08T09:59:02.811807Z",
     "iopub.status.idle": "2022-06-08T09:59:02.846114Z",
     "shell.execute_reply": "2022-06-08T09:59:02.845206Z"
    },
    "papermill": {
     "duration": 0.047632,
     "end_time": "2022-06-08T09:59:02.848186",
     "exception": false,
     "start_time": "2022-06-08T09:59:02.800554",
     "status": "completed"
    },
    "tags": []
   },
   "outputs": [
    {
     "data": {
      "text/html": [
       "<div>\n",
       "<style scoped>\n",
       "    .dataframe tbody tr th:only-of-type {\n",
       "        vertical-align: middle;\n",
       "    }\n",
       "\n",
       "    .dataframe tbody tr th {\n",
       "        vertical-align: top;\n",
       "    }\n",
       "\n",
       "    .dataframe thead th {\n",
       "        text-align: right;\n",
       "    }\n",
       "</style>\n",
       "<table border=\"1\" class=\"dataframe\">\n",
       "  <thead>\n",
       "    <tr style=\"text-align: right;\">\n",
       "      <th></th>\n",
       "      <th>0</th>\n",
       "      <th>1</th>\n",
       "      <th>2</th>\n",
       "      <th>3</th>\n",
       "      <th>4</th>\n",
       "      <th>5</th>\n",
       "      <th>6</th>\n",
       "      <th>7</th>\n",
       "      <th>8</th>\n",
       "      <th>9</th>\n",
       "      <th>...</th>\n",
       "      <th>540</th>\n",
       "      <th>541</th>\n",
       "      <th>542</th>\n",
       "      <th>543</th>\n",
       "      <th>544</th>\n",
       "      <th>545</th>\n",
       "      <th>546</th>\n",
       "      <th>547</th>\n",
       "      <th>548</th>\n",
       "      <th>549</th>\n",
       "    </tr>\n",
       "    <tr>\n",
       "      <th>Name</th>\n",
       "      <th></th>\n",
       "      <th></th>\n",
       "      <th></th>\n",
       "      <th></th>\n",
       "      <th></th>\n",
       "      <th></th>\n",
       "      <th></th>\n",
       "      <th></th>\n",
       "      <th></th>\n",
       "      <th></th>\n",
       "      <th></th>\n",
       "      <th></th>\n",
       "      <th></th>\n",
       "      <th></th>\n",
       "      <th></th>\n",
       "      <th></th>\n",
       "      <th></th>\n",
       "      <th></th>\n",
       "      <th></th>\n",
       "      <th></th>\n",
       "      <th></th>\n",
       "    </tr>\n",
       "  </thead>\n",
       "  <tbody>\n",
       "    <tr>\n",
       "      <th>10-Day Green Smoothie Cleanse</th>\n",
       "      <td>4.7</td>\n",
       "      <td>0.0</td>\n",
       "      <td>0.0</td>\n",
       "      <td>0.0</td>\n",
       "      <td>0.0</td>\n",
       "      <td>0.0</td>\n",
       "      <td>0.0</td>\n",
       "      <td>0.0</td>\n",
       "      <td>0.0</td>\n",
       "      <td>0.0</td>\n",
       "      <td>...</td>\n",
       "      <td>0.0</td>\n",
       "      <td>0.0</td>\n",
       "      <td>0.0</td>\n",
       "      <td>0.0</td>\n",
       "      <td>0.0</td>\n",
       "      <td>0.0</td>\n",
       "      <td>0.0</td>\n",
       "      <td>0.0</td>\n",
       "      <td>0.0</td>\n",
       "      <td>0.0</td>\n",
       "    </tr>\n",
       "    <tr>\n",
       "      <th>11/22/63: A Novel</th>\n",
       "      <td>0.0</td>\n",
       "      <td>4.6</td>\n",
       "      <td>0.0</td>\n",
       "      <td>0.0</td>\n",
       "      <td>0.0</td>\n",
       "      <td>0.0</td>\n",
       "      <td>0.0</td>\n",
       "      <td>0.0</td>\n",
       "      <td>0.0</td>\n",
       "      <td>0.0</td>\n",
       "      <td>...</td>\n",
       "      <td>0.0</td>\n",
       "      <td>0.0</td>\n",
       "      <td>0.0</td>\n",
       "      <td>0.0</td>\n",
       "      <td>0.0</td>\n",
       "      <td>0.0</td>\n",
       "      <td>0.0</td>\n",
       "      <td>0.0</td>\n",
       "      <td>0.0</td>\n",
       "      <td>0.0</td>\n",
       "    </tr>\n",
       "    <tr>\n",
       "      <th>12 Rules for Life: An Antidote to Chaos</th>\n",
       "      <td>0.0</td>\n",
       "      <td>0.0</td>\n",
       "      <td>4.7</td>\n",
       "      <td>0.0</td>\n",
       "      <td>0.0</td>\n",
       "      <td>0.0</td>\n",
       "      <td>0.0</td>\n",
       "      <td>0.0</td>\n",
       "      <td>0.0</td>\n",
       "      <td>0.0</td>\n",
       "      <td>...</td>\n",
       "      <td>0.0</td>\n",
       "      <td>0.0</td>\n",
       "      <td>0.0</td>\n",
       "      <td>0.0</td>\n",
       "      <td>0.0</td>\n",
       "      <td>0.0</td>\n",
       "      <td>0.0</td>\n",
       "      <td>0.0</td>\n",
       "      <td>0.0</td>\n",
       "      <td>0.0</td>\n",
       "    </tr>\n",
       "    <tr>\n",
       "      <th>1984 (Signet Classics)</th>\n",
       "      <td>0.0</td>\n",
       "      <td>0.0</td>\n",
       "      <td>0.0</td>\n",
       "      <td>4.7</td>\n",
       "      <td>0.0</td>\n",
       "      <td>0.0</td>\n",
       "      <td>0.0</td>\n",
       "      <td>0.0</td>\n",
       "      <td>0.0</td>\n",
       "      <td>0.0</td>\n",
       "      <td>...</td>\n",
       "      <td>0.0</td>\n",
       "      <td>0.0</td>\n",
       "      <td>0.0</td>\n",
       "      <td>0.0</td>\n",
       "      <td>0.0</td>\n",
       "      <td>0.0</td>\n",
       "      <td>0.0</td>\n",
       "      <td>0.0</td>\n",
       "      <td>0.0</td>\n",
       "      <td>0.0</td>\n",
       "    </tr>\n",
       "    <tr>\n",
       "      <th>5,000 Awesome Facts (About Everything!) (National Geographic Kids)</th>\n",
       "      <td>0.0</td>\n",
       "      <td>0.0</td>\n",
       "      <td>0.0</td>\n",
       "      <td>0.0</td>\n",
       "      <td>4.8</td>\n",
       "      <td>0.0</td>\n",
       "      <td>0.0</td>\n",
       "      <td>0.0</td>\n",
       "      <td>0.0</td>\n",
       "      <td>0.0</td>\n",
       "      <td>...</td>\n",
       "      <td>0.0</td>\n",
       "      <td>0.0</td>\n",
       "      <td>0.0</td>\n",
       "      <td>0.0</td>\n",
       "      <td>0.0</td>\n",
       "      <td>0.0</td>\n",
       "      <td>0.0</td>\n",
       "      <td>0.0</td>\n",
       "      <td>0.0</td>\n",
       "      <td>0.0</td>\n",
       "    </tr>\n",
       "    <tr>\n",
       "      <th>A Dance with Dragons (A Song of Ice and Fire)</th>\n",
       "      <td>0.0</td>\n",
       "      <td>0.0</td>\n",
       "      <td>0.0</td>\n",
       "      <td>0.0</td>\n",
       "      <td>0.0</td>\n",
       "      <td>4.4</td>\n",
       "      <td>0.0</td>\n",
       "      <td>0.0</td>\n",
       "      <td>0.0</td>\n",
       "      <td>0.0</td>\n",
       "      <td>...</td>\n",
       "      <td>0.0</td>\n",
       "      <td>0.0</td>\n",
       "      <td>0.0</td>\n",
       "      <td>0.0</td>\n",
       "      <td>0.0</td>\n",
       "      <td>0.0</td>\n",
       "      <td>0.0</td>\n",
       "      <td>0.0</td>\n",
       "      <td>0.0</td>\n",
       "      <td>0.0</td>\n",
       "    </tr>\n",
       "    <tr>\n",
       "      <th>A Game of Thrones / A Clash of Kings / A Storm of Swords / A Feast of Crows / A Dance with Dragons</th>\n",
       "      <td>0.0</td>\n",
       "      <td>0.0</td>\n",
       "      <td>0.0</td>\n",
       "      <td>0.0</td>\n",
       "      <td>0.0</td>\n",
       "      <td>0.0</td>\n",
       "      <td>4.7</td>\n",
       "      <td>0.0</td>\n",
       "      <td>0.0</td>\n",
       "      <td>0.0</td>\n",
       "      <td>...</td>\n",
       "      <td>0.0</td>\n",
       "      <td>0.0</td>\n",
       "      <td>0.0</td>\n",
       "      <td>0.0</td>\n",
       "      <td>0.0</td>\n",
       "      <td>0.0</td>\n",
       "      <td>0.0</td>\n",
       "      <td>0.0</td>\n",
       "      <td>0.0</td>\n",
       "      <td>0.0</td>\n",
       "    </tr>\n",
       "    <tr>\n",
       "      <th>A Gentleman in Moscow: A Novel</th>\n",
       "      <td>0.0</td>\n",
       "      <td>0.0</td>\n",
       "      <td>0.0</td>\n",
       "      <td>0.0</td>\n",
       "      <td>0.0</td>\n",
       "      <td>0.0</td>\n",
       "      <td>0.0</td>\n",
       "      <td>4.7</td>\n",
       "      <td>0.0</td>\n",
       "      <td>0.0</td>\n",
       "      <td>...</td>\n",
       "      <td>0.0</td>\n",
       "      <td>0.0</td>\n",
       "      <td>0.0</td>\n",
       "      <td>0.0</td>\n",
       "      <td>0.0</td>\n",
       "      <td>0.0</td>\n",
       "      <td>0.0</td>\n",
       "      <td>0.0</td>\n",
       "      <td>0.0</td>\n",
       "      <td>0.0</td>\n",
       "    </tr>\n",
       "    <tr>\n",
       "      <th>A Higher Loyalty: Truth, Lies, and Leadership</th>\n",
       "      <td>0.0</td>\n",
       "      <td>0.0</td>\n",
       "      <td>0.0</td>\n",
       "      <td>0.0</td>\n",
       "      <td>0.0</td>\n",
       "      <td>0.0</td>\n",
       "      <td>0.0</td>\n",
       "      <td>0.0</td>\n",
       "      <td>4.7</td>\n",
       "      <td>0.0</td>\n",
       "      <td>...</td>\n",
       "      <td>0.0</td>\n",
       "      <td>0.0</td>\n",
       "      <td>0.0</td>\n",
       "      <td>0.0</td>\n",
       "      <td>0.0</td>\n",
       "      <td>0.0</td>\n",
       "      <td>0.0</td>\n",
       "      <td>0.0</td>\n",
       "      <td>0.0</td>\n",
       "      <td>0.0</td>\n",
       "    </tr>\n",
       "    <tr>\n",
       "      <th>A Man Called Ove: A Novel</th>\n",
       "      <td>0.0</td>\n",
       "      <td>0.0</td>\n",
       "      <td>0.0</td>\n",
       "      <td>0.0</td>\n",
       "      <td>0.0</td>\n",
       "      <td>0.0</td>\n",
       "      <td>0.0</td>\n",
       "      <td>0.0</td>\n",
       "      <td>0.0</td>\n",
       "      <td>4.6</td>\n",
       "      <td>...</td>\n",
       "      <td>0.0</td>\n",
       "      <td>0.0</td>\n",
       "      <td>0.0</td>\n",
       "      <td>0.0</td>\n",
       "      <td>0.0</td>\n",
       "      <td>0.0</td>\n",
       "      <td>0.0</td>\n",
       "      <td>0.0</td>\n",
       "      <td>0.0</td>\n",
       "      <td>0.0</td>\n",
       "    </tr>\n",
       "  </tbody>\n",
       "</table>\n",
       "<p>10 rows × 550 columns</p>\n",
       "</div>"
      ],
      "text/plain": [
       "                                                    0    1    2    3    4    \\\n",
       "Name                                                                          \n",
       "10-Day Green Smoothie Cleanse                       4.7  0.0  0.0  0.0  0.0   \n",
       "11/22/63: A Novel                                   0.0  4.6  0.0  0.0  0.0   \n",
       "12 Rules for Life: An Antidote to Chaos             0.0  0.0  4.7  0.0  0.0   \n",
       "1984 (Signet Classics)                              0.0  0.0  0.0  4.7  0.0   \n",
       "5,000 Awesome Facts (About Everything!) (Nation...  0.0  0.0  0.0  0.0  4.8   \n",
       "A Dance with Dragons (A Song of Ice and Fire)       0.0  0.0  0.0  0.0  0.0   \n",
       "A Game of Thrones / A Clash of Kings / A Storm ...  0.0  0.0  0.0  0.0  0.0   \n",
       "A Gentleman in Moscow: A Novel                      0.0  0.0  0.0  0.0  0.0   \n",
       "A Higher Loyalty: Truth, Lies, and Leadership       0.0  0.0  0.0  0.0  0.0   \n",
       "A Man Called Ove: A Novel                           0.0  0.0  0.0  0.0  0.0   \n",
       "\n",
       "                                                    5    6    7    8    9    \\\n",
       "Name                                                                          \n",
       "10-Day Green Smoothie Cleanse                       0.0  0.0  0.0  0.0  0.0   \n",
       "11/22/63: A Novel                                   0.0  0.0  0.0  0.0  0.0   \n",
       "12 Rules for Life: An Antidote to Chaos             0.0  0.0  0.0  0.0  0.0   \n",
       "1984 (Signet Classics)                              0.0  0.0  0.0  0.0  0.0   \n",
       "5,000 Awesome Facts (About Everything!) (Nation...  0.0  0.0  0.0  0.0  0.0   \n",
       "A Dance with Dragons (A Song of Ice and Fire)       4.4  0.0  0.0  0.0  0.0   \n",
       "A Game of Thrones / A Clash of Kings / A Storm ...  0.0  4.7  0.0  0.0  0.0   \n",
       "A Gentleman in Moscow: A Novel                      0.0  0.0  4.7  0.0  0.0   \n",
       "A Higher Loyalty: Truth, Lies, and Leadership       0.0  0.0  0.0  4.7  0.0   \n",
       "A Man Called Ove: A Novel                           0.0  0.0  0.0  0.0  4.6   \n",
       "\n",
       "                                                    ...  540  541  542  543  \\\n",
       "Name                                                ...                       \n",
       "10-Day Green Smoothie Cleanse                       ...  0.0  0.0  0.0  0.0   \n",
       "11/22/63: A Novel                                   ...  0.0  0.0  0.0  0.0   \n",
       "12 Rules for Life: An Antidote to Chaos             ...  0.0  0.0  0.0  0.0   \n",
       "1984 (Signet Classics)                              ...  0.0  0.0  0.0  0.0   \n",
       "5,000 Awesome Facts (About Everything!) (Nation...  ...  0.0  0.0  0.0  0.0   \n",
       "A Dance with Dragons (A Song of Ice and Fire)       ...  0.0  0.0  0.0  0.0   \n",
       "A Game of Thrones / A Clash of Kings / A Storm ...  ...  0.0  0.0  0.0  0.0   \n",
       "A Gentleman in Moscow: A Novel                      ...  0.0  0.0  0.0  0.0   \n",
       "A Higher Loyalty: Truth, Lies, and Leadership       ...  0.0  0.0  0.0  0.0   \n",
       "A Man Called Ove: A Novel                           ...  0.0  0.0  0.0  0.0   \n",
       "\n",
       "                                                    544  545  546  547  548  \\\n",
       "Name                                                                          \n",
       "10-Day Green Smoothie Cleanse                       0.0  0.0  0.0  0.0  0.0   \n",
       "11/22/63: A Novel                                   0.0  0.0  0.0  0.0  0.0   \n",
       "12 Rules for Life: An Antidote to Chaos             0.0  0.0  0.0  0.0  0.0   \n",
       "1984 (Signet Classics)                              0.0  0.0  0.0  0.0  0.0   \n",
       "5,000 Awesome Facts (About Everything!) (Nation...  0.0  0.0  0.0  0.0  0.0   \n",
       "A Dance with Dragons (A Song of Ice and Fire)       0.0  0.0  0.0  0.0  0.0   \n",
       "A Game of Thrones / A Clash of Kings / A Storm ...  0.0  0.0  0.0  0.0  0.0   \n",
       "A Gentleman in Moscow: A Novel                      0.0  0.0  0.0  0.0  0.0   \n",
       "A Higher Loyalty: Truth, Lies, and Leadership       0.0  0.0  0.0  0.0  0.0   \n",
       "A Man Called Ove: A Novel                           0.0  0.0  0.0  0.0  0.0   \n",
       "\n",
       "                                                    549  \n",
       "Name                                                     \n",
       "10-Day Green Smoothie Cleanse                       0.0  \n",
       "11/22/63: A Novel                                   0.0  \n",
       "12 Rules for Life: An Antidote to Chaos             0.0  \n",
       "1984 (Signet Classics)                              0.0  \n",
       "5,000 Awesome Facts (About Everything!) (Nation...  0.0  \n",
       "A Dance with Dragons (A Song of Ice and Fire)       0.0  \n",
       "A Game of Thrones / A Clash of Kings / A Storm ...  0.0  \n",
       "A Gentleman in Moscow: A Novel                      0.0  \n",
       "A Higher Loyalty: Truth, Lies, and Leadership       0.0  \n",
       "A Man Called Ove: A Novel                           0.0  \n",
       "\n",
       "[10 rows x 550 columns]"
      ]
     },
     "execution_count": 20,
     "metadata": {},
     "output_type": "execute_result"
    }
   ],
   "source": [
    "bookRate.head(10)"
   ]
  },
  {
   "cell_type": "code",
   "execution_count": 21,
   "id": "ff1b59d6",
   "metadata": {
    "execution": {
     "iopub.execute_input": "2022-06-08T09:59:02.869864Z",
     "iopub.status.busy": "2022-06-08T09:59:02.869259Z",
     "iopub.status.idle": "2022-06-08T09:59:02.877077Z",
     "shell.execute_reply": "2022-06-08T09:59:02.876401Z"
    },
    "papermill": {
     "duration": 0.020663,
     "end_time": "2022-06-08T09:59:02.879031",
     "exception": false,
     "start_time": "2022-06-08T09:59:02.858368",
     "status": "completed"
    },
    "tags": []
   },
   "outputs": [],
   "source": [
    "from scipy.sparse import csr_matrix\n",
    "book_sparse = csr_matrix(bookRate)"
   ]
  },
  {
   "cell_type": "code",
   "execution_count": 22,
   "id": "434d7700",
   "metadata": {
    "execution": {
     "iopub.execute_input": "2022-06-08T09:59:02.900987Z",
     "iopub.status.busy": "2022-06-08T09:59:02.900594Z",
     "iopub.status.idle": "2022-06-08T09:59:03.247947Z",
     "shell.execute_reply": "2022-06-08T09:59:03.247030Z"
    },
    "papermill": {
     "duration": 0.361554,
     "end_time": "2022-06-08T09:59:03.250648",
     "exception": false,
     "start_time": "2022-06-08T09:59:02.889094",
     "status": "completed"
    },
    "tags": []
   },
   "outputs": [
    {
     "data": {
      "text/plain": [
       "NearestNeighbors(algorithm='brute', metric='cosine')"
      ]
     },
     "execution_count": 22,
     "metadata": {},
     "output_type": "execute_result"
    }
   ],
   "source": [
    "from sklearn.neighbors import NearestNeighbors\n",
    "model = NearestNeighbors(metric= 'cosine',algorithm='brute')\n",
    "model.fit(book_sparse)"
   ]
  },
  {
   "cell_type": "code",
   "execution_count": 23,
   "id": "d43bfadc",
   "metadata": {
    "execution": {
     "iopub.execute_input": "2022-06-08T09:59:03.274373Z",
     "iopub.status.busy": "2022-06-08T09:59:03.272773Z",
     "iopub.status.idle": "2022-06-08T09:59:03.287072Z",
     "shell.execute_reply": "2022-06-08T09:59:03.285942Z"
    },
    "papermill": {
     "duration": 0.028964,
     "end_time": "2022-06-08T09:59:03.290298",
     "exception": false,
     "start_time": "2022-06-08T09:59:03.261334",
     "status": "completed"
    },
    "tags": []
   },
   "outputs": [
    {
     "name": "stdout",
     "output_type": "stream",
     "text": [
      "137\n"
     ]
    }
   ],
   "source": [
    "qi = np.random.choice(bookRate.shape[0])\n",
    "print(qi)\n",
    "distances, indices = model.kneighbors(bookRate.iloc[qi,:].values.reshape(1,-1),n_neighbors=6)"
   ]
  },
  {
   "cell_type": "code",
   "execution_count": 24,
   "id": "eeb0cbf2",
   "metadata": {
    "execution": {
     "iopub.execute_input": "2022-06-08T09:59:03.318997Z",
     "iopub.status.busy": "2022-06-08T09:59:03.317670Z",
     "iopub.status.idle": "2022-06-08T09:59:03.324977Z",
     "shell.execute_reply": "2022-06-08T09:59:03.324028Z"
    },
    "papermill": {
     "duration": 0.021069,
     "end_time": "2022-06-08T09:59:03.327154",
     "exception": false,
     "start_time": "2022-06-08T09:59:03.306085",
     "status": "completed"
    },
    "tags": []
   },
   "outputs": [
    {
     "data": {
      "text/plain": [
       "'Instant Pot Pressure Cooker Cookbook: 500 Everyday Recipes for Beginners and Advanced Users. Try Easy and Healthy…'"
      ]
     },
     "execution_count": 24,
     "metadata": {},
     "output_type": "execute_result"
    }
   ],
   "source": [
    "bookRate.index[qi]"
   ]
  },
  {
   "cell_type": "code",
   "execution_count": 25,
   "id": "27abae6c",
   "metadata": {
    "execution": {
     "iopub.execute_input": "2022-06-08T09:59:03.350203Z",
     "iopub.status.busy": "2022-06-08T09:59:03.349778Z",
     "iopub.status.idle": "2022-06-08T09:59:03.356038Z",
     "shell.execute_reply": "2022-06-08T09:59:03.355152Z"
    },
    "papermill": {
     "duration": 0.020354,
     "end_time": "2022-06-08T09:59:03.357910",
     "exception": false,
     "start_time": "2022-06-08T09:59:03.337556",
     "status": "completed"
    },
    "tags": []
   },
   "outputs": [
    {
     "name": "stdout",
     "output_type": "stream",
     "text": [
      "Recommendations for Instant Pot Pressure Cooker Cookbook: 500 Everyday Recipes for Beginners and Advanced Users. Try Easy and Healthy…:\n",
      "\n",
      "1:The Day the Crayons Quit,with distance of 1.0:\n",
      "2:The Confession: A Novel,with distance of 1.0:\n",
      "3:The Constitution of the United States,with distance of 1.0:\n",
      "4:The Daily Show with Jon Stewart Presents Earth (The Book): A Visitor's Guide to the Human Race,with distance of 1.0:\n",
      "5:The China Study: The Most Comprehensive Study of Nutrition Ever Conducted And the Startling Implications for Diet…,with distance of 1.0:\n"
     ]
    }
   ],
   "source": [
    "for i in range(0,len(distances.flatten())):\n",
    "    if i ==0:\n",
    "        print(\"Recommendations for {0}:\\n\".format(bookRate.index[qi]))\n",
    "    else:\n",
    "        print('{0}:{1},with distance of {2}:'.format(i,bookRate.index[indices.flatten()[i]],distances.flatten()[i]))"
   ]
  },
  {
   "cell_type": "markdown",
   "id": "9f296b56",
   "metadata": {
    "papermill": {
     "duration": 0.011627,
     "end_time": "2022-06-08T09:59:03.379979",
     "exception": false,
     "start_time": "2022-06-08T09:59:03.368352",
     "status": "completed"
    },
    "tags": []
   },
   "source": [
    "# Conclusion\n",
    "1. we build collaborative recommendation system for top 50 best books of amazon\n",
    "2. system is based on ratings and similar ratings are found by cosine similarity method which is memory based approch"
   ]
  }
 ],
 "metadata": {
  "kernelspec": {
   "display_name": "Python 3",
   "language": "python",
   "name": "python3"
  },
  "language_info": {
   "codemirror_mode": {
    "name": "ipython",
    "version": 3
   },
   "file_extension": ".py",
   "mimetype": "text/x-python",
   "name": "python",
   "nbconvert_exporter": "python",
   "pygments_lexer": "ipython3",
   "version": "3.7.12"
  },
  "papermill": {
   "default_parameters": {},
   "duration": 12.598263,
   "end_time": "2022-06-08T09:59:04.110666",
   "environment_variables": {},
   "exception": null,
   "input_path": "__notebook__.ipynb",
   "output_path": "__notebook__.ipynb",
   "parameters": {},
   "start_time": "2022-06-08T09:58:51.512403",
   "version": "2.3.4"
  }
 },
 "nbformat": 4,
 "nbformat_minor": 5
}
