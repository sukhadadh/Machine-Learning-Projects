{
 "cells": [
  {
   "cell_type": "code",
   "execution_count": 1,
   "id": "cc7386b7",
   "metadata": {
    "_cell_guid": "b1076dfc-b9ad-4769-8c92-a6c4dae69d19",
    "_uuid": "8f2839f25d086af736a60e9eeb907d3b93b6e0e5",
    "execution": {
     "iopub.execute_input": "2022-05-18T07:29:55.643008Z",
     "iopub.status.busy": "2022-05-18T07:29:55.642380Z",
     "iopub.status.idle": "2022-05-18T07:29:55.663110Z",
     "shell.execute_reply": "2022-05-18T07:29:55.662369Z"
    },
    "papermill": {
     "duration": 0.077504,
     "end_time": "2022-05-18T07:29:55.665198",
     "exception": false,
     "start_time": "2022-05-18T07:29:55.587694",
     "status": "completed"
    },
    "tags": []
   },
   "outputs": [
    {
     "name": "stdout",
     "output_type": "stream",
     "text": [
      "/kaggle/input/stroke-prediction-dataset/healthcare-dataset-stroke-data.csv\n"
     ]
    }
   ],
   "source": [
    "# This Python 3 environment comes with many helpful analytics libraries installed\n",
    "# It is defined by the kaggle/python Docker image: https://github.com/kaggle/docker-python\n",
    "# For example, here's several helpful packages to load\n",
    "\n",
    "import numpy as np # linear algebra\n",
    "import pandas as pd # data processing, CSV file I/O (e.g. pd.read_csv)\n",
    "\n",
    "# Input data files are available in the read-only \"../input/\" directory\n",
    "# For example, running this (by clicking run or pressing Shift+Enter) will list all files under the input directory\n",
    "\n",
    "import os\n",
    "for dirname, _, filenames in os.walk('/kaggle/input'):\n",
    "    for filename in filenames:\n",
    "        print(os.path.join(dirname, filename))\n",
    "\n",
    "# You can write up to 20GB to the current directory (/kaggle/working/) that gets preserved as output when you create a version using \"Save & Run All\" \n",
    "# You can also write temporary files to /kaggle/temp/, but they won't be saved outside of the current session"
   ]
  },
  {
   "cell_type": "markdown",
   "id": "fa1ea312",
   "metadata": {
    "papermill": {
     "duration": 0.053284,
     "end_time": "2022-05-18T07:29:55.771415",
     "exception": false,
     "start_time": "2022-05-18T07:29:55.718131",
     "status": "completed"
    },
    "tags": []
   },
   "source": [
    "# k-nearest neighbor algorithm\n",
    "This algorithm is used to solve the classification model problems. K-nearest neighbor or K-NN algorithm basically creates an imaginary boundary to classify the data. When new data points come in, the algorithm will try to predict that to the nearest of the boundary line.\n",
    "\n",
    "Therefore, larger k value means smother curves of separation resulting in less complex models. Whereas, smaller k value tends to overfit the data and resulting in complex modle."
   ]
  },
  {
   "cell_type": "markdown",
   "id": "ccda90e4",
   "metadata": {
    "papermill": {
     "duration": 0.052143,
     "end_time": "2022-05-18T07:29:55.875824",
     "exception": false,
     "start_time": "2022-05-18T07:29:55.823681",
     "status": "completed"
    },
    "tags": []
   },
   "source": [
    "# 1. Import libraries"
   ]
  },
  {
   "cell_type": "code",
   "execution_count": 2,
   "id": "2b1c62e1",
   "metadata": {
    "execution": {
     "iopub.execute_input": "2022-05-18T07:29:55.984758Z",
     "iopub.status.busy": "2022-05-18T07:29:55.984308Z",
     "iopub.status.idle": "2022-05-18T07:29:57.503991Z",
     "shell.execute_reply": "2022-05-18T07:29:57.502291Z"
    },
    "papermill": {
     "duration": 1.575707,
     "end_time": "2022-05-18T07:29:57.506635",
     "exception": false,
     "start_time": "2022-05-18T07:29:55.930928",
     "status": "completed"
    },
    "tags": []
   },
   "outputs": [],
   "source": [
    "import numpy as np\n",
    "import matplotlib.pyplot as plt\n",
    "import pandas as pd  \n",
    "from sklearn.neighbors import KNeighborsClassifier\n",
    "from sklearn.model_selection import train_test_split \n",
    "from sklearn.preprocessing import LabelEncoder, OneHotEncoder\n",
    "from sklearn.preprocessing import StandardScaler \n",
    "from sklearn.metrics import confusion_matrix"
   ]
  },
  {
   "cell_type": "markdown",
   "id": "bcd6cb53",
   "metadata": {
    "papermill": {
     "duration": 0.052772,
     "end_time": "2022-05-18T07:29:57.612415",
     "exception": false,
     "start_time": "2022-05-18T07:29:57.559643",
     "status": "completed"
    },
    "tags": []
   },
   "source": [
    "# 2.Load dataset"
   ]
  },
  {
   "cell_type": "code",
   "execution_count": 3,
   "id": "7815edf8",
   "metadata": {
    "execution": {
     "iopub.execute_input": "2022-05-18T07:29:57.722394Z",
     "iopub.status.busy": "2022-05-18T07:29:57.721984Z",
     "iopub.status.idle": "2022-05-18T07:29:57.755681Z",
     "shell.execute_reply": "2022-05-18T07:29:57.753820Z"
    },
    "papermill": {
     "duration": 0.091228,
     "end_time": "2022-05-18T07:29:57.757942",
     "exception": false,
     "start_time": "2022-05-18T07:29:57.666714",
     "status": "completed"
    },
    "tags": []
   },
   "outputs": [
    {
     "name": "stdout",
     "output_type": "stream",
     "text": [
      "Dataset loaded..\n"
     ]
    }
   ],
   "source": [
    "df = pd.read_csv(\"../input/stroke-prediction-dataset/healthcare-dataset-stroke-data.csv\")\n",
    "print(\"Dataset loaded..\")"
   ]
  },
  {
   "cell_type": "markdown",
   "id": "fce28e22",
   "metadata": {
    "papermill": {
     "duration": 0.034092,
     "end_time": "2022-05-18T07:29:57.827538",
     "exception": false,
     "start_time": "2022-05-18T07:29:57.793446",
     "status": "completed"
    },
    "tags": []
   },
   "source": [
    "# 3. Data Anaysis"
   ]
  },
  {
   "cell_type": "code",
   "execution_count": 4,
   "id": "a2d06ee5",
   "metadata": {
    "execution": {
     "iopub.execute_input": "2022-05-18T07:29:57.898513Z",
     "iopub.status.busy": "2022-05-18T07:29:57.898006Z",
     "iopub.status.idle": "2022-05-18T07:29:57.924437Z",
     "shell.execute_reply": "2022-05-18T07:29:57.923522Z"
    },
    "papermill": {
     "duration": 0.064204,
     "end_time": "2022-05-18T07:29:57.926402",
     "exception": false,
     "start_time": "2022-05-18T07:29:57.862198",
     "status": "completed"
    },
    "tags": []
   },
   "outputs": [
    {
     "data": {
      "text/html": [
       "<div>\n",
       "<style scoped>\n",
       "    .dataframe tbody tr th:only-of-type {\n",
       "        vertical-align: middle;\n",
       "    }\n",
       "\n",
       "    .dataframe tbody tr th {\n",
       "        vertical-align: top;\n",
       "    }\n",
       "\n",
       "    .dataframe thead th {\n",
       "        text-align: right;\n",
       "    }\n",
       "</style>\n",
       "<table border=\"1\" class=\"dataframe\">\n",
       "  <thead>\n",
       "    <tr style=\"text-align: right;\">\n",
       "      <th></th>\n",
       "      <th>id</th>\n",
       "      <th>gender</th>\n",
       "      <th>age</th>\n",
       "      <th>hypertension</th>\n",
       "      <th>heart_disease</th>\n",
       "      <th>ever_married</th>\n",
       "      <th>work_type</th>\n",
       "      <th>Residence_type</th>\n",
       "      <th>avg_glucose_level</th>\n",
       "      <th>bmi</th>\n",
       "      <th>smoking_status</th>\n",
       "      <th>stroke</th>\n",
       "    </tr>\n",
       "  </thead>\n",
       "  <tbody>\n",
       "    <tr>\n",
       "      <th>0</th>\n",
       "      <td>9046</td>\n",
       "      <td>Male</td>\n",
       "      <td>67.0</td>\n",
       "      <td>0</td>\n",
       "      <td>1</td>\n",
       "      <td>Yes</td>\n",
       "      <td>Private</td>\n",
       "      <td>Urban</td>\n",
       "      <td>228.69</td>\n",
       "      <td>36.6</td>\n",
       "      <td>formerly smoked</td>\n",
       "      <td>1</td>\n",
       "    </tr>\n",
       "    <tr>\n",
       "      <th>1</th>\n",
       "      <td>51676</td>\n",
       "      <td>Female</td>\n",
       "      <td>61.0</td>\n",
       "      <td>0</td>\n",
       "      <td>0</td>\n",
       "      <td>Yes</td>\n",
       "      <td>Self-employed</td>\n",
       "      <td>Rural</td>\n",
       "      <td>202.21</td>\n",
       "      <td>NaN</td>\n",
       "      <td>never smoked</td>\n",
       "      <td>1</td>\n",
       "    </tr>\n",
       "    <tr>\n",
       "      <th>2</th>\n",
       "      <td>31112</td>\n",
       "      <td>Male</td>\n",
       "      <td>80.0</td>\n",
       "      <td>0</td>\n",
       "      <td>1</td>\n",
       "      <td>Yes</td>\n",
       "      <td>Private</td>\n",
       "      <td>Rural</td>\n",
       "      <td>105.92</td>\n",
       "      <td>32.5</td>\n",
       "      <td>never smoked</td>\n",
       "      <td>1</td>\n",
       "    </tr>\n",
       "    <tr>\n",
       "      <th>3</th>\n",
       "      <td>60182</td>\n",
       "      <td>Female</td>\n",
       "      <td>49.0</td>\n",
       "      <td>0</td>\n",
       "      <td>0</td>\n",
       "      <td>Yes</td>\n",
       "      <td>Private</td>\n",
       "      <td>Urban</td>\n",
       "      <td>171.23</td>\n",
       "      <td>34.4</td>\n",
       "      <td>smokes</td>\n",
       "      <td>1</td>\n",
       "    </tr>\n",
       "    <tr>\n",
       "      <th>4</th>\n",
       "      <td>1665</td>\n",
       "      <td>Female</td>\n",
       "      <td>79.0</td>\n",
       "      <td>1</td>\n",
       "      <td>0</td>\n",
       "      <td>Yes</td>\n",
       "      <td>Self-employed</td>\n",
       "      <td>Rural</td>\n",
       "      <td>174.12</td>\n",
       "      <td>24.0</td>\n",
       "      <td>never smoked</td>\n",
       "      <td>1</td>\n",
       "    </tr>\n",
       "  </tbody>\n",
       "</table>\n",
       "</div>"
      ],
      "text/plain": [
       "      id  gender   age  hypertension  heart_disease ever_married  \\\n",
       "0   9046    Male  67.0             0              1          Yes   \n",
       "1  51676  Female  61.0             0              0          Yes   \n",
       "2  31112    Male  80.0             0              1          Yes   \n",
       "3  60182  Female  49.0             0              0          Yes   \n",
       "4   1665  Female  79.0             1              0          Yes   \n",
       "\n",
       "       work_type Residence_type  avg_glucose_level   bmi   smoking_status  \\\n",
       "0        Private          Urban             228.69  36.6  formerly smoked   \n",
       "1  Self-employed          Rural             202.21   NaN     never smoked   \n",
       "2        Private          Rural             105.92  32.5     never smoked   \n",
       "3        Private          Urban             171.23  34.4           smokes   \n",
       "4  Self-employed          Rural             174.12  24.0     never smoked   \n",
       "\n",
       "   stroke  \n",
       "0       1  \n",
       "1       1  \n",
       "2       1  \n",
       "3       1  \n",
       "4       1  "
      ]
     },
     "execution_count": 4,
     "metadata": {},
     "output_type": "execute_result"
    }
   ],
   "source": [
    "df.head()"
   ]
  },
  {
   "cell_type": "code",
   "execution_count": 5,
   "id": "047e5c58",
   "metadata": {
    "execution": {
     "iopub.execute_input": "2022-05-18T07:29:57.997109Z",
     "iopub.status.busy": "2022-05-18T07:29:57.996615Z",
     "iopub.status.idle": "2022-05-18T07:29:58.002317Z",
     "shell.execute_reply": "2022-05-18T07:29:58.001235Z"
    },
    "papermill": {
     "duration": 0.043841,
     "end_time": "2022-05-18T07:29:58.004768",
     "exception": false,
     "start_time": "2022-05-18T07:29:57.960927",
     "status": "completed"
    },
    "tags": []
   },
   "outputs": [
    {
     "data": {
      "text/plain": [
       "(5110, 12)"
      ]
     },
     "execution_count": 5,
     "metadata": {},
     "output_type": "execute_result"
    }
   ],
   "source": [
    "df.shape"
   ]
  },
  {
   "cell_type": "code",
   "execution_count": 6,
   "id": "46257312",
   "metadata": {
    "execution": {
     "iopub.execute_input": "2022-05-18T07:29:58.112578Z",
     "iopub.status.busy": "2022-05-18T07:29:58.112093Z",
     "iopub.status.idle": "2022-05-18T07:29:58.119926Z",
     "shell.execute_reply": "2022-05-18T07:29:58.119227Z"
    },
    "papermill": {
     "duration": 0.064875,
     "end_time": "2022-05-18T07:29:58.122556",
     "exception": false,
     "start_time": "2022-05-18T07:29:58.057681",
     "status": "completed"
    },
    "tags": []
   },
   "outputs": [
    {
     "data": {
      "text/plain": [
       "id                     int64\n",
       "gender                object\n",
       "age                  float64\n",
       "hypertension           int64\n",
       "heart_disease          int64\n",
       "ever_married          object\n",
       "work_type             object\n",
       "Residence_type        object\n",
       "avg_glucose_level    float64\n",
       "bmi                  float64\n",
       "smoking_status        object\n",
       "stroke                 int64\n",
       "dtype: object"
      ]
     },
     "execution_count": 6,
     "metadata": {},
     "output_type": "execute_result"
    }
   ],
   "source": [
    "df.dtypes"
   ]
  },
  {
   "cell_type": "code",
   "execution_count": 7,
   "id": "1263cbb2",
   "metadata": {
    "execution": {
     "iopub.execute_input": "2022-05-18T07:29:58.196053Z",
     "iopub.status.busy": "2022-05-18T07:29:58.195363Z",
     "iopub.status.idle": "2022-05-18T07:29:58.239417Z",
     "shell.execute_reply": "2022-05-18T07:29:58.238705Z"
    },
    "papermill": {
     "duration": 0.08303,
     "end_time": "2022-05-18T07:29:58.241321",
     "exception": false,
     "start_time": "2022-05-18T07:29:58.158291",
     "status": "completed"
    },
    "tags": []
   },
   "outputs": [
    {
     "data": {
      "text/html": [
       "<div>\n",
       "<style scoped>\n",
       "    .dataframe tbody tr th:only-of-type {\n",
       "        vertical-align: middle;\n",
       "    }\n",
       "\n",
       "    .dataframe tbody tr th {\n",
       "        vertical-align: top;\n",
       "    }\n",
       "\n",
       "    .dataframe thead th {\n",
       "        text-align: right;\n",
       "    }\n",
       "</style>\n",
       "<table border=\"1\" class=\"dataframe\">\n",
       "  <thead>\n",
       "    <tr style=\"text-align: right;\">\n",
       "      <th></th>\n",
       "      <th>id</th>\n",
       "      <th>age</th>\n",
       "      <th>hypertension</th>\n",
       "      <th>heart_disease</th>\n",
       "      <th>avg_glucose_level</th>\n",
       "      <th>bmi</th>\n",
       "      <th>stroke</th>\n",
       "    </tr>\n",
       "  </thead>\n",
       "  <tbody>\n",
       "    <tr>\n",
       "      <th>count</th>\n",
       "      <td>5110.000000</td>\n",
       "      <td>5110.000000</td>\n",
       "      <td>5110.000000</td>\n",
       "      <td>5110.000000</td>\n",
       "      <td>5110.000000</td>\n",
       "      <td>4909.000000</td>\n",
       "      <td>5110.000000</td>\n",
       "    </tr>\n",
       "    <tr>\n",
       "      <th>mean</th>\n",
       "      <td>36517.829354</td>\n",
       "      <td>43.226614</td>\n",
       "      <td>0.097456</td>\n",
       "      <td>0.054012</td>\n",
       "      <td>106.147677</td>\n",
       "      <td>28.893237</td>\n",
       "      <td>0.048728</td>\n",
       "    </tr>\n",
       "    <tr>\n",
       "      <th>std</th>\n",
       "      <td>21161.721625</td>\n",
       "      <td>22.612647</td>\n",
       "      <td>0.296607</td>\n",
       "      <td>0.226063</td>\n",
       "      <td>45.283560</td>\n",
       "      <td>7.854067</td>\n",
       "      <td>0.215320</td>\n",
       "    </tr>\n",
       "    <tr>\n",
       "      <th>min</th>\n",
       "      <td>67.000000</td>\n",
       "      <td>0.080000</td>\n",
       "      <td>0.000000</td>\n",
       "      <td>0.000000</td>\n",
       "      <td>55.120000</td>\n",
       "      <td>10.300000</td>\n",
       "      <td>0.000000</td>\n",
       "    </tr>\n",
       "    <tr>\n",
       "      <th>25%</th>\n",
       "      <td>17741.250000</td>\n",
       "      <td>25.000000</td>\n",
       "      <td>0.000000</td>\n",
       "      <td>0.000000</td>\n",
       "      <td>77.245000</td>\n",
       "      <td>23.500000</td>\n",
       "      <td>0.000000</td>\n",
       "    </tr>\n",
       "    <tr>\n",
       "      <th>50%</th>\n",
       "      <td>36932.000000</td>\n",
       "      <td>45.000000</td>\n",
       "      <td>0.000000</td>\n",
       "      <td>0.000000</td>\n",
       "      <td>91.885000</td>\n",
       "      <td>28.100000</td>\n",
       "      <td>0.000000</td>\n",
       "    </tr>\n",
       "    <tr>\n",
       "      <th>75%</th>\n",
       "      <td>54682.000000</td>\n",
       "      <td>61.000000</td>\n",
       "      <td>0.000000</td>\n",
       "      <td>0.000000</td>\n",
       "      <td>114.090000</td>\n",
       "      <td>33.100000</td>\n",
       "      <td>0.000000</td>\n",
       "    </tr>\n",
       "    <tr>\n",
       "      <th>max</th>\n",
       "      <td>72940.000000</td>\n",
       "      <td>82.000000</td>\n",
       "      <td>1.000000</td>\n",
       "      <td>1.000000</td>\n",
       "      <td>271.740000</td>\n",
       "      <td>97.600000</td>\n",
       "      <td>1.000000</td>\n",
       "    </tr>\n",
       "  </tbody>\n",
       "</table>\n",
       "</div>"
      ],
      "text/plain": [
       "                 id          age  hypertension  heart_disease  \\\n",
       "count   5110.000000  5110.000000   5110.000000    5110.000000   \n",
       "mean   36517.829354    43.226614      0.097456       0.054012   \n",
       "std    21161.721625    22.612647      0.296607       0.226063   \n",
       "min       67.000000     0.080000      0.000000       0.000000   \n",
       "25%    17741.250000    25.000000      0.000000       0.000000   \n",
       "50%    36932.000000    45.000000      0.000000       0.000000   \n",
       "75%    54682.000000    61.000000      0.000000       0.000000   \n",
       "max    72940.000000    82.000000      1.000000       1.000000   \n",
       "\n",
       "       avg_glucose_level          bmi       stroke  \n",
       "count        5110.000000  4909.000000  5110.000000  \n",
       "mean          106.147677    28.893237     0.048728  \n",
       "std            45.283560     7.854067     0.215320  \n",
       "min            55.120000    10.300000     0.000000  \n",
       "25%            77.245000    23.500000     0.000000  \n",
       "50%            91.885000    28.100000     0.000000  \n",
       "75%           114.090000    33.100000     0.000000  \n",
       "max           271.740000    97.600000     1.000000  "
      ]
     },
     "execution_count": 7,
     "metadata": {},
     "output_type": "execute_result"
    }
   ],
   "source": [
    "df.describe()"
   ]
  },
  {
   "cell_type": "code",
   "execution_count": 8,
   "id": "c035f140",
   "metadata": {
    "execution": {
     "iopub.execute_input": "2022-05-18T07:29:58.355392Z",
     "iopub.status.busy": "2022-05-18T07:29:58.354647Z",
     "iopub.status.idle": "2022-05-18T07:29:58.371343Z",
     "shell.execute_reply": "2022-05-18T07:29:58.370603Z"
    },
    "papermill": {
     "duration": 0.077525,
     "end_time": "2022-05-18T07:29:58.373535",
     "exception": false,
     "start_time": "2022-05-18T07:29:58.296010",
     "status": "completed"
    },
    "tags": []
   },
   "outputs": [
    {
     "data": {
      "text/html": [
       "<div>\n",
       "<style scoped>\n",
       "    .dataframe tbody tr th:only-of-type {\n",
       "        vertical-align: middle;\n",
       "    }\n",
       "\n",
       "    .dataframe tbody tr th {\n",
       "        vertical-align: top;\n",
       "    }\n",
       "\n",
       "    .dataframe thead th {\n",
       "        text-align: right;\n",
       "    }\n",
       "</style>\n",
       "<table border=\"1\" class=\"dataframe\">\n",
       "  <thead>\n",
       "    <tr style=\"text-align: right;\">\n",
       "      <th></th>\n",
       "      <th>id</th>\n",
       "      <th>age</th>\n",
       "      <th>hypertension</th>\n",
       "      <th>heart_disease</th>\n",
       "      <th>avg_glucose_level</th>\n",
       "      <th>bmi</th>\n",
       "      <th>stroke</th>\n",
       "    </tr>\n",
       "  </thead>\n",
       "  <tbody>\n",
       "    <tr>\n",
       "      <th>id</th>\n",
       "      <td>1.000000</td>\n",
       "      <td>0.003538</td>\n",
       "      <td>0.003550</td>\n",
       "      <td>-0.001296</td>\n",
       "      <td>0.001092</td>\n",
       "      <td>0.003084</td>\n",
       "      <td>0.006388</td>\n",
       "    </tr>\n",
       "    <tr>\n",
       "      <th>age</th>\n",
       "      <td>0.003538</td>\n",
       "      <td>1.000000</td>\n",
       "      <td>0.276398</td>\n",
       "      <td>0.263796</td>\n",
       "      <td>0.238171</td>\n",
       "      <td>0.333398</td>\n",
       "      <td>0.245257</td>\n",
       "    </tr>\n",
       "    <tr>\n",
       "      <th>hypertension</th>\n",
       "      <td>0.003550</td>\n",
       "      <td>0.276398</td>\n",
       "      <td>1.000000</td>\n",
       "      <td>0.108306</td>\n",
       "      <td>0.174474</td>\n",
       "      <td>0.167811</td>\n",
       "      <td>0.127904</td>\n",
       "    </tr>\n",
       "    <tr>\n",
       "      <th>heart_disease</th>\n",
       "      <td>-0.001296</td>\n",
       "      <td>0.263796</td>\n",
       "      <td>0.108306</td>\n",
       "      <td>1.000000</td>\n",
       "      <td>0.161857</td>\n",
       "      <td>0.041357</td>\n",
       "      <td>0.134914</td>\n",
       "    </tr>\n",
       "    <tr>\n",
       "      <th>avg_glucose_level</th>\n",
       "      <td>0.001092</td>\n",
       "      <td>0.238171</td>\n",
       "      <td>0.174474</td>\n",
       "      <td>0.161857</td>\n",
       "      <td>1.000000</td>\n",
       "      <td>0.175502</td>\n",
       "      <td>0.131945</td>\n",
       "    </tr>\n",
       "    <tr>\n",
       "      <th>bmi</th>\n",
       "      <td>0.003084</td>\n",
       "      <td>0.333398</td>\n",
       "      <td>0.167811</td>\n",
       "      <td>0.041357</td>\n",
       "      <td>0.175502</td>\n",
       "      <td>1.000000</td>\n",
       "      <td>0.042374</td>\n",
       "    </tr>\n",
       "    <tr>\n",
       "      <th>stroke</th>\n",
       "      <td>0.006388</td>\n",
       "      <td>0.245257</td>\n",
       "      <td>0.127904</td>\n",
       "      <td>0.134914</td>\n",
       "      <td>0.131945</td>\n",
       "      <td>0.042374</td>\n",
       "      <td>1.000000</td>\n",
       "    </tr>\n",
       "  </tbody>\n",
       "</table>\n",
       "</div>"
      ],
      "text/plain": [
       "                         id       age  hypertension  heart_disease  \\\n",
       "id                 1.000000  0.003538      0.003550      -0.001296   \n",
       "age                0.003538  1.000000      0.276398       0.263796   \n",
       "hypertension       0.003550  0.276398      1.000000       0.108306   \n",
       "heart_disease     -0.001296  0.263796      0.108306       1.000000   \n",
       "avg_glucose_level  0.001092  0.238171      0.174474       0.161857   \n",
       "bmi                0.003084  0.333398      0.167811       0.041357   \n",
       "stroke             0.006388  0.245257      0.127904       0.134914   \n",
       "\n",
       "                   avg_glucose_level       bmi    stroke  \n",
       "id                          0.001092  0.003084  0.006388  \n",
       "age                         0.238171  0.333398  0.245257  \n",
       "hypertension                0.174474  0.167811  0.127904  \n",
       "heart_disease               0.161857  0.041357  0.134914  \n",
       "avg_glucose_level           1.000000  0.175502  0.131945  \n",
       "bmi                         0.175502  1.000000  0.042374  \n",
       "stroke                      0.131945  0.042374  1.000000  "
      ]
     },
     "execution_count": 8,
     "metadata": {},
     "output_type": "execute_result"
    }
   ],
   "source": [
    "df.corr()"
   ]
  },
  {
   "cell_type": "code",
   "execution_count": 9,
   "id": "c8aa90c6",
   "metadata": {
    "execution": {
     "iopub.execute_input": "2022-05-18T07:29:58.486482Z",
     "iopub.status.busy": "2022-05-18T07:29:58.486121Z",
     "iopub.status.idle": "2022-05-18T07:29:58.495993Z",
     "shell.execute_reply": "2022-05-18T07:29:58.495311Z"
    },
    "papermill": {
     "duration": 0.069049,
     "end_time": "2022-05-18T07:29:58.497884",
     "exception": false,
     "start_time": "2022-05-18T07:29:58.428835",
     "status": "completed"
    },
    "tags": []
   },
   "outputs": [
    {
     "data": {
      "text/plain": [
       "id                     0\n",
       "gender                 0\n",
       "age                    0\n",
       "hypertension           0\n",
       "heart_disease          0\n",
       "ever_married           0\n",
       "work_type              0\n",
       "Residence_type         0\n",
       "avg_glucose_level      0\n",
       "bmi                  201\n",
       "smoking_status         0\n",
       "stroke                 0\n",
       "dtype: int64"
      ]
     },
     "execution_count": 9,
     "metadata": {},
     "output_type": "execute_result"
    }
   ],
   "source": [
    "df.isnull().sum()"
   ]
  },
  {
   "cell_type": "code",
   "execution_count": 10,
   "id": "3264ede4",
   "metadata": {
    "execution": {
     "iopub.execute_input": "2022-05-18T07:29:58.609621Z",
     "iopub.status.busy": "2022-05-18T07:29:58.609370Z",
     "iopub.status.idle": "2022-05-18T07:29:58.641167Z",
     "shell.execute_reply": "2022-05-18T07:29:58.639538Z"
    },
    "papermill": {
     "duration": 0.090519,
     "end_time": "2022-05-18T07:29:58.643344",
     "exception": false,
     "start_time": "2022-05-18T07:29:58.552825",
     "status": "completed"
    },
    "tags": []
   },
   "outputs": [
    {
     "name": "stderr",
     "output_type": "stream",
     "text": [
      "/opt/conda/lib/python3.7/site-packages/ipykernel_launcher.py:1: FutureWarning: Dropping of nuisance columns in DataFrame reductions (with 'numeric_only=None') is deprecated; in a future version this will raise TypeError.  Select only valid columns before calling the reduction.\n",
      "  \"\"\"Entry point for launching an IPython kernel.\n"
     ]
    }
   ],
   "source": [
    "df = df.fillna(df.mean())"
   ]
  },
  {
   "cell_type": "code",
   "execution_count": 11,
   "id": "fdaf46b0",
   "metadata": {
    "execution": {
     "iopub.execute_input": "2022-05-18T07:29:58.755993Z",
     "iopub.status.busy": "2022-05-18T07:29:58.755738Z",
     "iopub.status.idle": "2022-05-18T07:29:58.763753Z",
     "shell.execute_reply": "2022-05-18T07:29:58.763351Z"
    },
    "papermill": {
     "duration": 0.067068,
     "end_time": "2022-05-18T07:29:58.765655",
     "exception": false,
     "start_time": "2022-05-18T07:29:58.698587",
     "status": "completed"
    },
    "tags": []
   },
   "outputs": [
    {
     "data": {
      "text/plain": [
       "id                   0\n",
       "gender               0\n",
       "age                  0\n",
       "hypertension         0\n",
       "heart_disease        0\n",
       "ever_married         0\n",
       "work_type            0\n",
       "Residence_type       0\n",
       "avg_glucose_level    0\n",
       "bmi                  0\n",
       "smoking_status       0\n",
       "stroke               0\n",
       "dtype: int64"
      ]
     },
     "execution_count": 11,
     "metadata": {},
     "output_type": "execute_result"
    }
   ],
   "source": [
    "df.isnull().sum()"
   ]
  },
  {
   "cell_type": "code",
   "execution_count": 12,
   "id": "8c0fc544",
   "metadata": {
    "execution": {
     "iopub.execute_input": "2022-05-18T07:29:58.880156Z",
     "iopub.status.busy": "2022-05-18T07:29:58.879655Z",
     "iopub.status.idle": "2022-05-18T07:29:58.885302Z",
     "shell.execute_reply": "2022-05-18T07:29:58.884588Z"
    },
    "papermill": {
     "duration": 0.064782,
     "end_time": "2022-05-18T07:29:58.887066",
     "exception": false,
     "start_time": "2022-05-18T07:29:58.822284",
     "status": "completed"
    },
    "tags": []
   },
   "outputs": [
    {
     "data": {
      "text/plain": [
       "0    4861\n",
       "1     249\n",
       "Name: stroke, dtype: int64"
      ]
     },
     "execution_count": 12,
     "metadata": {},
     "output_type": "execute_result"
    }
   ],
   "source": [
    "df['stroke'].value_counts()"
   ]
  },
  {
   "cell_type": "markdown",
   "id": "c5eef139",
   "metadata": {
    "papermill": {
     "duration": 0.057953,
     "end_time": "2022-05-18T07:29:59.001936",
     "exception": false,
     "start_time": "2022-05-18T07:29:58.943983",
     "status": "completed"
    },
    "tags": []
   },
   "source": [
    "# 4. Data Visualization"
   ]
  },
  {
   "cell_type": "code",
   "execution_count": 13,
   "id": "32cd34d7",
   "metadata": {
    "execution": {
     "iopub.execute_input": "2022-05-18T07:29:59.117748Z",
     "iopub.status.busy": "2022-05-18T07:29:59.117329Z",
     "iopub.status.idle": "2022-05-18T07:29:59.913856Z",
     "shell.execute_reply": "2022-05-18T07:29:59.912778Z"
    },
    "papermill": {
     "duration": 0.857169,
     "end_time": "2022-05-18T07:29:59.915862",
     "exception": false,
     "start_time": "2022-05-18T07:29:59.058693",
     "status": "completed"
    },
    "tags": []
   },
   "outputs": [
    {
     "data": {
      "image/png": "[encoded data removed]",
      "text/plain": [
       "<Figure size 720x720 with 9 Axes>"
      ]
     },
     "metadata": {
      "needs_background": "light"
     },
     "output_type": "display_data"
    }
   ],
   "source": [
    "df.hist(figsize=(10,10))\n",
    "plt.show()"
   ]
  },
  {
   "cell_type": "code",
   "execution_count": 14,
   "id": "a96be784",
   "metadata": {
    "execution": {
     "iopub.execute_input": "2022-05-18T07:30:00.034487Z",
     "iopub.status.busy": "2022-05-18T07:30:00.034219Z",
     "iopub.status.idle": "2022-05-18T07:30:00.524370Z",
     "shell.execute_reply": "2022-05-18T07:30:00.523515Z"
    },
    "papermill": {
     "duration": 0.553094,
     "end_time": "2022-05-18T07:30:00.526722",
     "exception": false,
     "start_time": "2022-05-18T07:29:59.973628",
     "status": "completed"
    },
    "tags": []
   },
   "outputs": [
    {
     "data": {
      "image/png": "[encoded data removed]",
      "text/plain": [
       "<Figure size 720x504 with 1 Axes>"
      ]
     },
     "metadata": {
      "needs_background": "light"
     },
     "output_type": "display_data"
    }
   ],
   "source": [
    "df.plot(figsize = (10,7))\n",
    "plt.show()"
   ]
  },
  {
   "cell_type": "markdown",
   "id": "fc6f0622",
   "metadata": {
    "papermill": {
     "duration": 0.059785,
     "end_time": "2022-05-18T07:30:00.645312",
     "exception": false,
     "start_time": "2022-05-18T07:30:00.585527",
     "status": "completed"
    },
    "tags": []
   },
   "source": [
    "numerical_features = 'age','hypertension','heart_disease','avg_glucose_level','bmi'\t\n",
    "catagorial_features = gender,ever_married,work_type ,Residence_type,smoking_status \n"
   ]
  },
  {
   "cell_type": "markdown",
   "id": "d31d8d4d",
   "metadata": {
    "papermill": {
     "duration": 0.060393,
     "end_time": "2022-05-18T07:30:00.766514",
     "exception": false,
     "start_time": "2022-05-18T07:30:00.706121",
     "status": "completed"
    },
    "tags": []
   },
   "source": [
    "# 5. Applying Lable Encoding"
   ]
  },
  {
   "cell_type": "code",
   "execution_count": 15,
   "id": "0fdd90b4",
   "metadata": {
    "execution": {
     "iopub.execute_input": "2022-05-18T07:30:00.887576Z",
     "iopub.status.busy": "2022-05-18T07:30:00.887092Z",
     "iopub.status.idle": "2022-05-18T07:30:00.891815Z",
     "shell.execute_reply": "2022-05-18T07:30:00.890918Z"
    },
    "papermill": {
     "duration": 0.067567,
     "end_time": "2022-05-18T07:30:00.893992",
     "exception": false,
     "start_time": "2022-05-18T07:30:00.826425",
     "status": "completed"
    },
    "tags": []
   },
   "outputs": [],
   "source": [
    "def label_transform(x):\n",
    "  le = LabelEncoder()\n",
    "  Encoded_le = le.fit_transform(x)\n",
    "  return Encoded_le"
   ]
  },
  {
   "cell_type": "code",
   "execution_count": 16,
   "id": "5396422a",
   "metadata": {
    "execution": {
     "iopub.execute_input": "2022-05-18T07:30:01.015923Z",
     "iopub.status.busy": "2022-05-18T07:30:01.015464Z",
     "iopub.status.idle": "2022-05-18T07:30:01.021082Z",
     "shell.execute_reply": "2022-05-18T07:30:01.019845Z"
    },
    "papermill": {
     "duration": 0.069377,
     "end_time": "2022-05-18T07:30:01.023619",
     "exception": false,
     "start_time": "2022-05-18T07:30:00.954242",
     "status": "completed"
    },
    "tags": []
   },
   "outputs": [
    {
     "name": "stdout",
     "output_type": "stream",
     "text": [
      "copy is created...\n"
     ]
    }
   ],
   "source": [
    "df_transformed = df.copy()\n",
    "print(\"copy is created...\")"
   ]
  },
  {
   "cell_type": "code",
   "execution_count": 17,
   "id": "1b1d2236",
   "metadata": {
    "execution": {
     "iopub.execute_input": "2022-05-18T07:30:01.146589Z",
     "iopub.status.busy": "2022-05-18T07:30:01.146113Z",
     "iopub.status.idle": "2022-05-18T07:30:01.164045Z",
     "shell.execute_reply": "2022-05-18T07:30:01.163470Z"
    },
    "papermill": {
     "duration": 0.082311,
     "end_time": "2022-05-18T07:30:01.166297",
     "exception": false,
     "start_time": "2022-05-18T07:30:01.083986",
     "status": "completed"
    },
    "tags": []
   },
   "outputs": [],
   "source": [
    "catagoral_labels = ['gender','ever_married','work_type' ,'Residence_type','smoking_status']\n",
    "for x in catagoral_labels:\n",
    "  df_transformed[x] = label_transform(df_transformed[x])"
   ]
  },
  {
   "cell_type": "code",
   "execution_count": 18,
   "id": "80219a5b",
   "metadata": {
    "execution": {
     "iopub.execute_input": "2022-05-18T07:30:01.288972Z",
     "iopub.status.busy": "2022-05-18T07:30:01.288530Z",
     "iopub.status.idle": "2022-05-18T07:30:01.305387Z",
     "shell.execute_reply": "2022-05-18T07:30:01.303843Z"
    },
    "papermill": {
     "duration": 0.080441,
     "end_time": "2022-05-18T07:30:01.307549",
     "exception": false,
     "start_time": "2022-05-18T07:30:01.227108",
     "status": "completed"
    },
    "tags": []
   },
   "outputs": [
    {
     "data": {
      "text/html": [
       "<div>\n",
       "<style scoped>\n",
       "    .dataframe tbody tr th:only-of-type {\n",
       "        vertical-align: middle;\n",
       "    }\n",
       "\n",
       "    .dataframe tbody tr th {\n",
       "        vertical-align: top;\n",
       "    }\n",
       "\n",
       "    .dataframe thead th {\n",
       "        text-align: right;\n",
       "    }\n",
       "</style>\n",
       "<table border=\"1\" class=\"dataframe\">\n",
       "  <thead>\n",
       "    <tr style=\"text-align: right;\">\n",
       "      <th></th>\n",
       "      <th>id</th>\n",
       "      <th>gender</th>\n",
       "      <th>age</th>\n",
       "      <th>hypertension</th>\n",
       "      <th>heart_disease</th>\n",
       "      <th>ever_married</th>\n",
       "      <th>work_type</th>\n",
       "      <th>Residence_type</th>\n",
       "      <th>avg_glucose_level</th>\n",
       "      <th>bmi</th>\n",
       "      <th>smoking_status</th>\n",
       "      <th>stroke</th>\n",
       "    </tr>\n",
       "  </thead>\n",
       "  <tbody>\n",
       "    <tr>\n",
       "      <th>0</th>\n",
       "      <td>9046</td>\n",
       "      <td>1</td>\n",
       "      <td>67.0</td>\n",
       "      <td>0</td>\n",
       "      <td>1</td>\n",
       "      <td>1</td>\n",
       "      <td>2</td>\n",
       "      <td>1</td>\n",
       "      <td>228.69</td>\n",
       "      <td>36.600000</td>\n",
       "      <td>1</td>\n",
       "      <td>1</td>\n",
       "    </tr>\n",
       "    <tr>\n",
       "      <th>1</th>\n",
       "      <td>51676</td>\n",
       "      <td>0</td>\n",
       "      <td>61.0</td>\n",
       "      <td>0</td>\n",
       "      <td>0</td>\n",
       "      <td>1</td>\n",
       "      <td>3</td>\n",
       "      <td>0</td>\n",
       "      <td>202.21</td>\n",
       "      <td>28.893237</td>\n",
       "      <td>2</td>\n",
       "      <td>1</td>\n",
       "    </tr>\n",
       "    <tr>\n",
       "      <th>2</th>\n",
       "      <td>31112</td>\n",
       "      <td>1</td>\n",
       "      <td>80.0</td>\n",
       "      <td>0</td>\n",
       "      <td>1</td>\n",
       "      <td>1</td>\n",
       "      <td>2</td>\n",
       "      <td>0</td>\n",
       "      <td>105.92</td>\n",
       "      <td>32.500000</td>\n",
       "      <td>2</td>\n",
       "      <td>1</td>\n",
       "    </tr>\n",
       "    <tr>\n",
       "      <th>3</th>\n",
       "      <td>60182</td>\n",
       "      <td>0</td>\n",
       "      <td>49.0</td>\n",
       "      <td>0</td>\n",
       "      <td>0</td>\n",
       "      <td>1</td>\n",
       "      <td>2</td>\n",
       "      <td>1</td>\n",
       "      <td>171.23</td>\n",
       "      <td>34.400000</td>\n",
       "      <td>3</td>\n",
       "      <td>1</td>\n",
       "    </tr>\n",
       "    <tr>\n",
       "      <th>4</th>\n",
       "      <td>1665</td>\n",
       "      <td>0</td>\n",
       "      <td>79.0</td>\n",
       "      <td>1</td>\n",
       "      <td>0</td>\n",
       "      <td>1</td>\n",
       "      <td>3</td>\n",
       "      <td>0</td>\n",
       "      <td>174.12</td>\n",
       "      <td>24.000000</td>\n",
       "      <td>2</td>\n",
       "      <td>1</td>\n",
       "    </tr>\n",
       "  </tbody>\n",
       "</table>\n",
       "</div>"
      ],
      "text/plain": [
       "      id  gender   age  hypertension  heart_disease  ever_married  work_type  \\\n",
       "0   9046       1  67.0             0              1             1          2   \n",
       "1  51676       0  61.0             0              0             1          3   \n",
       "2  31112       1  80.0             0              1             1          2   \n",
       "3  60182       0  49.0             0              0             1          2   \n",
       "4   1665       0  79.0             1              0             1          3   \n",
       "\n",
       "   Residence_type  avg_glucose_level        bmi  smoking_status  stroke  \n",
       "0               1             228.69  36.600000               1       1  \n",
       "1               0             202.21  28.893237               2       1  \n",
       "2               0             105.92  32.500000               2       1  \n",
       "3               1             171.23  34.400000               3       1  \n",
       "4               0             174.12  24.000000               2       1  "
      ]
     },
     "execution_count": 18,
     "metadata": {},
     "output_type": "execute_result"
    }
   ],
   "source": [
    "df_transformed.head()"
   ]
  },
  {
   "cell_type": "markdown",
   "id": "59de66ad",
   "metadata": {
    "papermill": {
     "duration": 0.05999,
     "end_time": "2022-05-18T07:30:01.427890",
     "exception": false,
     "start_time": "2022-05-18T07:30:01.367900",
     "status": "completed"
    },
    "tags": []
   },
   "source": [
    "# 6. Scaling Of Numerical Data"
   ]
  },
  {
   "cell_type": "code",
   "execution_count": 19,
   "id": "87d0d8eb",
   "metadata": {
    "execution": {
     "iopub.execute_input": "2022-05-18T07:30:01.547784Z",
     "iopub.status.busy": "2022-05-18T07:30:01.547531Z",
     "iopub.status.idle": "2022-05-18T07:30:01.558843Z",
     "shell.execute_reply": "2022-05-18T07:30:01.557736Z"
    },
    "papermill": {
     "duration": 0.073338,
     "end_time": "2022-05-18T07:30:01.560899",
     "exception": false,
     "start_time": "2022-05-18T07:30:01.487561",
     "status": "completed"
    },
    "tags": []
   },
   "outputs": [],
   "source": [
    "scaler = StandardScaler()\n",
    "df_transformed[['age','hypertension','heart_disease','avg_glucose_level','bmi']] = scaler.fit_transform(df_transformed[['age','hypertension','heart_disease','avg_glucose_level','bmi']])"
   ]
  },
  {
   "cell_type": "code",
   "execution_count": 20,
   "id": "edad6df7",
   "metadata": {
    "execution": {
     "iopub.execute_input": "2022-05-18T07:30:01.686324Z",
     "iopub.status.busy": "2022-05-18T07:30:01.686021Z",
     "iopub.status.idle": "2022-05-18T07:30:01.702084Z",
     "shell.execute_reply": "2022-05-18T07:30:01.700797Z"
    },
    "papermill": {
     "duration": 0.082931,
     "end_time": "2022-05-18T07:30:01.704489",
     "exception": false,
     "start_time": "2022-05-18T07:30:01.621558",
     "status": "completed"
    },
    "tags": []
   },
   "outputs": [
    {
     "data": {
      "text/html": [
       "<div>\n",
       "<style scoped>\n",
       "    .dataframe tbody tr th:only-of-type {\n",
       "        vertical-align: middle;\n",
       "    }\n",
       "\n",
       "    .dataframe tbody tr th {\n",
       "        vertical-align: top;\n",
       "    }\n",
       "\n",
       "    .dataframe thead th {\n",
       "        text-align: right;\n",
       "    }\n",
       "</style>\n",
       "<table border=\"1\" class=\"dataframe\">\n",
       "  <thead>\n",
       "    <tr style=\"text-align: right;\">\n",
       "      <th></th>\n",
       "      <th>id</th>\n",
       "      <th>gender</th>\n",
       "      <th>age</th>\n",
       "      <th>hypertension</th>\n",
       "      <th>heart_disease</th>\n",
       "      <th>ever_married</th>\n",
       "      <th>work_type</th>\n",
       "      <th>Residence_type</th>\n",
       "      <th>avg_glucose_level</th>\n",
       "      <th>bmi</th>\n",
       "      <th>smoking_status</th>\n",
       "      <th>stroke</th>\n",
       "    </tr>\n",
       "  </thead>\n",
       "  <tbody>\n",
       "    <tr>\n",
       "      <th>0</th>\n",
       "      <td>9046</td>\n",
       "      <td>1</td>\n",
       "      <td>1.051434</td>\n",
       "      <td>-0.328602</td>\n",
       "      <td>4.185032</td>\n",
       "      <td>1</td>\n",
       "      <td>2</td>\n",
       "      <td>1</td>\n",
       "      <td>2.706375</td>\n",
       "      <td>1.001234e+00</td>\n",
       "      <td>1</td>\n",
       "      <td>1</td>\n",
       "    </tr>\n",
       "    <tr>\n",
       "      <th>1</th>\n",
       "      <td>51676</td>\n",
       "      <td>0</td>\n",
       "      <td>0.786070</td>\n",
       "      <td>-0.328602</td>\n",
       "      <td>-0.238947</td>\n",
       "      <td>1</td>\n",
       "      <td>3</td>\n",
       "      <td>0</td>\n",
       "      <td>2.121559</td>\n",
       "      <td>4.615554e-16</td>\n",
       "      <td>2</td>\n",
       "      <td>1</td>\n",
       "    </tr>\n",
       "    <tr>\n",
       "      <th>2</th>\n",
       "      <td>31112</td>\n",
       "      <td>1</td>\n",
       "      <td>1.626390</td>\n",
       "      <td>-0.328602</td>\n",
       "      <td>4.185032</td>\n",
       "      <td>1</td>\n",
       "      <td>2</td>\n",
       "      <td>0</td>\n",
       "      <td>-0.005028</td>\n",
       "      <td>4.685773e-01</td>\n",
       "      <td>2</td>\n",
       "      <td>1</td>\n",
       "    </tr>\n",
       "    <tr>\n",
       "      <th>3</th>\n",
       "      <td>60182</td>\n",
       "      <td>0</td>\n",
       "      <td>0.255342</td>\n",
       "      <td>-0.328602</td>\n",
       "      <td>-0.238947</td>\n",
       "      <td>1</td>\n",
       "      <td>2</td>\n",
       "      <td>1</td>\n",
       "      <td>1.437358</td>\n",
       "      <td>7.154182e-01</td>\n",
       "      <td>3</td>\n",
       "      <td>1</td>\n",
       "    </tr>\n",
       "    <tr>\n",
       "      <th>4</th>\n",
       "      <td>1665</td>\n",
       "      <td>0</td>\n",
       "      <td>1.582163</td>\n",
       "      <td>3.043196</td>\n",
       "      <td>-0.238947</td>\n",
       "      <td>1</td>\n",
       "      <td>3</td>\n",
       "      <td>0</td>\n",
       "      <td>1.501184</td>\n",
       "      <td>-6.357112e-01</td>\n",
       "      <td>2</td>\n",
       "      <td>1</td>\n",
       "    </tr>\n",
       "  </tbody>\n",
       "</table>\n",
       "</div>"
      ],
      "text/plain": [
       "      id  gender       age  hypertension  heart_disease  ever_married  \\\n",
       "0   9046       1  1.051434     -0.328602       4.185032             1   \n",
       "1  51676       0  0.786070     -0.328602      -0.238947             1   \n",
       "2  31112       1  1.626390     -0.328602       4.185032             1   \n",
       "3  60182       0  0.255342     -0.328602      -0.238947             1   \n",
       "4   1665       0  1.582163      3.043196      -0.238947             1   \n",
       "\n",
       "   work_type  Residence_type  avg_glucose_level           bmi  smoking_status  \\\n",
       "0          2               1           2.706375  1.001234e+00               1   \n",
       "1          3               0           2.121559  4.615554e-16               2   \n",
       "2          2               0          -0.005028  4.685773e-01               2   \n",
       "3          2               1           1.437358  7.154182e-01               3   \n",
       "4          3               0           1.501184 -6.357112e-01               2   \n",
       "\n",
       "   stroke  \n",
       "0       1  \n",
       "1       1  \n",
       "2       1  \n",
       "3       1  \n",
       "4       1  "
      ]
     },
     "execution_count": 20,
     "metadata": {},
     "output_type": "execute_result"
    }
   ],
   "source": [
    "df_transformed.head()"
   ]
  },
  {
   "cell_type": "markdown",
   "id": "8a04d6c0",
   "metadata": {
    "papermill": {
     "duration": 0.064271,
     "end_time": "2022-05-18T07:30:01.831563",
     "exception": false,
     "start_time": "2022-05-18T07:30:01.767292",
     "status": "completed"
    },
    "tags": []
   },
   "source": [
    "# 7. Train And Test The Model"
   ]
  },
  {
   "cell_type": "code",
   "execution_count": 21,
   "id": "abc80a4c",
   "metadata": {
    "execution": {
     "iopub.execute_input": "2022-05-18T07:30:01.958603Z",
     "iopub.status.busy": "2022-05-18T07:30:01.957248Z",
     "iopub.status.idle": "2022-05-18T07:30:01.972101Z",
     "shell.execute_reply": "2022-05-18T07:30:01.970735Z"
    },
    "papermill": {
     "duration": 0.081053,
     "end_time": "2022-05-18T07:30:01.974660",
     "exception": false,
     "start_time": "2022-05-18T07:30:01.893607",
     "status": "completed"
    },
    "tags": []
   },
   "outputs": [
    {
     "name": "stdout",
     "output_type": "stream",
     "text": [
      "Shape of Training Xs:(4088, 10)\n",
      "Shape of Test Xs:(1022, 10)\n",
      "Shape of Training y:(4088,)\n",
      "Shape of Test y:(1022,)\n"
     ]
    }
   ],
   "source": [
    "x_train, x_test, y_train, y_test =train_test_split(df_transformed[['age','hypertension','heart_disease','avg_glucose_level','bmi','gender','ever_married','work_type' ,'Residence_type','smoking_status']],df_transformed[\"stroke\"],test_size=0.20,random_state=21)\n",
    "print('Shape of Training Xs:{}'.format(x_train.shape))\n",
    "print('Shape of Test Xs:{}'.format(x_test.shape))\n",
    "print('Shape of Training y:{}'.format(y_train.shape))\n",
    "print('Shape of Test y:{}'.format(y_test.shape))"
   ]
  },
  {
   "cell_type": "markdown",
   "id": "e5918bfc",
   "metadata": {
    "papermill": {
     "duration": 0.062454,
     "end_time": "2022-05-18T07:30:02.099626",
     "exception": false,
     "start_time": "2022-05-18T07:30:02.037172",
     "status": "completed"
    },
    "tags": []
   },
   "source": [
    "# 8. Build Model"
   ]
  },
  {
   "cell_type": "code",
   "execution_count": 22,
   "id": "90b65e96",
   "metadata": {
    "execution": {
     "iopub.execute_input": "2022-05-18T07:30:02.227963Z",
     "iopub.status.busy": "2022-05-18T07:30:02.227706Z",
     "iopub.status.idle": "2022-05-18T07:30:02.243946Z",
     "shell.execute_reply": "2022-05-18T07:30:02.243102Z"
    },
    "papermill": {
     "duration": 0.083852,
     "end_time": "2022-05-18T07:30:02.246345",
     "exception": false,
     "start_time": "2022-05-18T07:30:02.162493",
     "status": "completed"
    },
    "tags": []
   },
   "outputs": [
    {
     "data": {
      "text/plain": [
       "KNeighborsClassifier()"
      ]
     },
     "execution_count": 22,
     "metadata": {},
     "output_type": "execute_result"
    }
   ],
   "source": [
    "classifier= KNeighborsClassifier(n_neighbors=5, metric='minkowski', p=2 )  \n",
    "classifier.fit(x_train, y_train)  "
   ]
  },
  {
   "cell_type": "code",
   "execution_count": 23,
   "id": "072535a8",
   "metadata": {
    "execution": {
     "iopub.execute_input": "2022-05-18T07:30:02.374099Z",
     "iopub.status.busy": "2022-05-18T07:30:02.373806Z",
     "iopub.status.idle": "2022-05-18T07:30:02.501561Z",
     "shell.execute_reply": "2022-05-18T07:30:02.499987Z"
    },
    "papermill": {
     "duration": 0.194947,
     "end_time": "2022-05-18T07:30:02.504057",
     "exception": false,
     "start_time": "2022-05-18T07:30:02.309110",
     "status": "completed"
    },
    "tags": []
   },
   "outputs": [
    {
     "data": {
      "text/plain": [
       "array([0, 0, 0, 0, 0, 0, 0, 0, 0, 0, 0, 0, 0, 0, 0, 0, 0, 0, 0, 0, 0, 0,\n",
       "       0, 0, 0, 0, 0, 0, 0, 0, 0, 0, 0, 0, 0, 0, 0, 0, 0, 0, 0, 0, 0, 0,\n",
       "       0, 0, 0, 0, 0, 0, 0, 0, 0, 0, 0, 0, 0, 0, 0, 0, 0, 0, 0, 0, 0, 0,\n",
       "       0, 0, 0, 0, 0, 0, 0, 0, 0, 0, 0, 0, 0, 0, 0, 0, 0, 0, 0, 0, 0, 0,\n",
       "       0, 0, 0, 0, 0, 0, 0, 0, 0, 0, 1, 0])"
      ]
     },
     "execution_count": 23,
     "metadata": {},
     "output_type": "execute_result"
    }
   ],
   "source": [
    "y_pred= classifier.predict(x_test)  \n",
    "y_pred[0:100]"
   ]
  },
  {
   "cell_type": "markdown",
   "id": "c196af14",
   "metadata": {
    "papermill": {
     "duration": 0.063359,
     "end_time": "2022-05-18T07:30:02.631876",
     "exception": false,
     "start_time": "2022-05-18T07:30:02.568517",
     "status": "completed"
    },
    "tags": []
   },
   "source": [
    "# 9. Find Accuracy Of Model"
   ]
  },
  {
   "cell_type": "code",
   "execution_count": 24,
   "id": "c92cd540",
   "metadata": {
    "execution": {
     "iopub.execute_input": "2022-05-18T07:30:02.765230Z",
     "iopub.status.busy": "2022-05-18T07:30:02.764970Z",
     "iopub.status.idle": "2022-05-18T07:30:02.835573Z",
     "shell.execute_reply": "2022-05-18T07:30:02.833497Z"
    },
    "papermill": {
     "duration": 0.140114,
     "end_time": "2022-05-18T07:30:02.838376",
     "exception": false,
     "start_time": "2022-05-18T07:30:02.698262",
     "status": "completed"
    },
    "tags": []
   },
   "outputs": [
    {
     "name": "stdout",
     "output_type": "stream",
     "text": [
      "accuracy of test set using linear regression 0.9461839530332681\n"
     ]
    }
   ],
   "source": [
    "print(\"accuracy of test set using linear regression\",classifier.score(x_test,y_test))"
   ]
  },
  {
   "cell_type": "markdown",
   "id": "407b127c",
   "metadata": {
    "papermill": {
     "duration": 0.064741,
     "end_time": "2022-05-18T07:30:02.977432",
     "exception": false,
     "start_time": "2022-05-18T07:30:02.912691",
     "status": "completed"
    },
    "tags": []
   },
   "source": [
    "# 10. Create Confusion Matrix"
   ]
  },
  {
   "cell_type": "code",
   "execution_count": 25,
   "id": "be333e44",
   "metadata": {
    "execution": {
     "iopub.execute_input": "2022-05-18T07:30:03.106958Z",
     "iopub.status.busy": "2022-05-18T07:30:03.106707Z",
     "iopub.status.idle": "2022-05-18T07:30:03.116231Z",
     "shell.execute_reply": "2022-05-18T07:30:03.115200Z"
    },
    "papermill": {
     "duration": 0.07663,
     "end_time": "2022-05-18T07:30:03.118350",
     "exception": false,
     "start_time": "2022-05-18T07:30:03.041720",
     "status": "completed"
    },
    "tags": []
   },
   "outputs": [
    {
     "data": {
      "text/plain": [
       "array([[967,   5],\n",
       "       [ 50,   0]])"
      ]
     },
     "execution_count": 25,
     "metadata": {},
     "output_type": "execute_result"
    }
   ],
   "source": [
    "cnf_matrix = confusion_matrix(y_test, y_pred)\n",
    "np.set_printoptions(precision=2)\n",
    "cnf_matrix\n"
   ]
  },
  {
   "cell_type": "code",
   "execution_count": 26,
   "id": "87408082",
   "metadata": {
    "execution": {
     "iopub.execute_input": "2022-05-18T07:30:03.249984Z",
     "iopub.status.busy": "2022-05-18T07:30:03.249760Z",
     "iopub.status.idle": "2022-05-18T07:30:03.257397Z",
     "shell.execute_reply": "2022-05-18T07:30:03.256958Z"
    },
    "papermill": {
     "duration": 0.075406,
     "end_time": "2022-05-18T07:30:03.259221",
     "exception": false,
     "start_time": "2022-05-18T07:30:03.183815",
     "status": "completed"
    },
    "tags": []
   },
   "outputs": [],
   "source": [
    "import itertools\n",
    "\n",
    "def plot_confusion_matrix(cm, classes,\n",
    "                          normalize=False,\n",
    "                          title='Confusion matrix',\n",
    "                          cmap=plt.cm.Blues):\n",
    "    \"\"\"\n",
    "    This function prints and plots the confusion matrix.\n",
    "    Normalization can be applied by setting `normalize=True`.\n",
    "    \"\"\"\n",
    "    if normalize:\n",
    "        cm = cm.astype('float') / cm.sum(axis=1)[:, np.newaxis]\n",
    "        print(\"Normalized confusion matrix\")\n",
    "    else:\n",
    "        print('Confusion matrix, without normalization')\n",
    "\n",
    "    print(cm)\n",
    "    plt.imshow(cm, interpolation='nearest', cmap=cmap)\n",
    "    plt.title(title)\n",
    "    plt.colorbar()\n",
    "    tick_marks = np.arange(len(classes))\n",
    "    plt.xticks(tick_marks, classes, rotation=45)\n",
    "    plt.yticks(tick_marks, classes)\n",
    "    fmt = '.2f' if normalize else 'd'\n",
    "    thresh = cm.max() / 2.\n",
    "    for i, j in itertools.product(range(cm.shape[0]), range(cm.shape[1])):\n",
    "        plt.text(j, i, format(cm[i, j], fmt),\n",
    "                 horizontalalignment=\"center\",\n",
    "                 color=\"white\" if cm[i, j] > thresh else \"black\")\n",
    "\n",
    "    plt.ylabel('True label')\n",
    "    plt.xlabel('Predicted label')\n",
    "    plt.tight_layout()\n"
   ]
  },
  {
   "cell_type": "code",
   "execution_count": 27,
   "id": "85058a80",
   "metadata": {
    "execution": {
     "iopub.execute_input": "2022-05-18T07:30:03.391194Z",
     "iopub.status.busy": "2022-05-18T07:30:03.390899Z",
     "iopub.status.idle": "2022-05-18T07:30:03.809186Z",
     "shell.execute_reply": "2022-05-18T07:30:03.808237Z"
    },
    "papermill": {
     "duration": 0.4879,
     "end_time": "2022-05-18T07:30:03.811787",
     "exception": false,
     "start_time": "2022-05-18T07:30:03.323887",
     "status": "completed"
    },
    "tags": []
   },
   "outputs": [
    {
     "name": "stdout",
     "output_type": "stream",
     "text": [
      "Confusion matrix, without normalization\n",
      "[[967   5]\n",
      " [ 50   0]]\n",
      "Normalized confusion matrix\n",
      "[[0.99 0.01]\n",
      " [1.   0.  ]]\n"
     ]
    },
    {
     "data": {
      "image/png": "[encoded data removed]",
      "text/plain": [
       "<Figure size 432x288 with 2 Axes>"
      ]
     },
     "metadata": {
      "needs_background": "light"
     },
     "output_type": "display_data"
    },
    {
     "data": {
      "image/png": "[encoded data removed]",
      "text/plain": [
       "<Figure size 432x288 with 2 Axes>"
      ]
     },
     "metadata": {
      "needs_background": "light"
     },
     "output_type": "display_data"
    }
   ],
   "source": [
    "plt.figure()\n",
    "plot_confusion_matrix(cnf_matrix, classes= [0,1],\n",
    "                      title='Confusion matrix, without normalization')\n",
    "# With normalization\n",
    "plt.figure()\n",
    "plot_confusion_matrix(cnf_matrix, classes= [0,1], normalize=True,\n",
    "                      title='Normalized confusion matrix')\n",
    " \n",
    "plt.show()\n"
   ]
  },
  {
   "cell_type": "markdown",
   "id": "62a7a715",
   "metadata": {
    "papermill": {
     "duration": 0.06734,
     "end_time": "2022-05-18T07:30:03.946524",
     "exception": false,
     "start_time": "2022-05-18T07:30:03.879184",
     "status": "completed"
    },
    "tags": []
   },
   "source": [
    "# 11. Classification Report"
   ]
  },
  {
   "cell_type": "code",
   "execution_count": 28,
   "id": "5cb2e7f5",
   "metadata": {
    "execution": {
     "iopub.execute_input": "2022-05-18T07:30:04.082415Z",
     "iopub.status.busy": "2022-05-18T07:30:04.082112Z",
     "iopub.status.idle": "2022-05-18T07:30:04.093094Z",
     "shell.execute_reply": "2022-05-18T07:30:04.091985Z"
    },
    "papermill": {
     "duration": 0.081999,
     "end_time": "2022-05-18T07:30:04.095632",
     "exception": false,
     "start_time": "2022-05-18T07:30:04.013633",
     "status": "completed"
    },
    "tags": []
   },
   "outputs": [
    {
     "name": "stdout",
     "output_type": "stream",
     "text": [
      "              precision    recall  f1-score   support\n",
      "\n",
      "           0       0.95      0.99      0.97       972\n",
      "           1       0.00      0.00      0.00        50\n",
      "\n",
      "    accuracy                           0.95      1022\n",
      "   macro avg       0.48      0.50      0.49      1022\n",
      "weighted avg       0.90      0.95      0.92      1022\n",
      "\n"
     ]
    }
   ],
   "source": [
    "from sklearn.metrics import classification_report\n",
    "# print classification report\n",
    "print(classification_report(y_test, y_pred))\n"
   ]
  },
  {
   "cell_type": "code",
   "execution_count": 29,
   "id": "022bfbef",
   "metadata": {
    "execution": {
     "iopub.execute_input": "2022-05-18T07:30:04.236768Z",
     "iopub.status.busy": "2022-05-18T07:30:04.236345Z",
     "iopub.status.idle": "2022-05-18T07:30:04.240456Z",
     "shell.execute_reply": "2022-05-18T07:30:04.239971Z"
    },
    "papermill": {
     "duration": 0.076603,
     "end_time": "2022-05-18T07:30:04.242484",
     "exception": false,
     "start_time": "2022-05-18T07:30:04.165881",
     "status": "completed"
    },
    "tags": []
   },
   "outputs": [],
   "source": [
    "x = df_transformed[['age','hypertension','heart_disease','avg_glucose_level','bmi','gender','ever_married','work_type' ,'Residence_type','smoking_status']]\n",
    "y = df_transformed['stroke']"
   ]
  },
  {
   "cell_type": "markdown",
   "id": "58edb1e1",
   "metadata": {
    "papermill": {
     "duration": 0.067621,
     "end_time": "2022-05-18T07:30:04.378728",
     "exception": false,
     "start_time": "2022-05-18T07:30:04.311107",
     "status": "completed"
    },
    "tags": []
   },
   "source": [
    "# 12. Cross Validation On KNN Model"
   ]
  },
  {
   "cell_type": "code",
   "execution_count": 30,
   "id": "2f7e9b5f",
   "metadata": {
    "execution": {
     "iopub.execute_input": "2022-05-18T07:30:04.520188Z",
     "iopub.status.busy": "2022-05-18T07:30:04.519776Z",
     "iopub.status.idle": "2022-05-18T07:30:04.836006Z",
     "shell.execute_reply": "2022-05-18T07:30:04.835306Z"
    },
    "papermill": {
     "duration": 0.390632,
     "end_time": "2022-05-18T07:30:04.838450",
     "exception": false,
     "start_time": "2022-05-18T07:30:04.447818",
     "status": "completed"
    },
    "tags": []
   },
   "outputs": [
    {
     "name": "stdout",
     "output_type": "stream",
     "text": [
      "[0.95 0.95 0.95 0.95 0.95]\n"
     ]
    }
   ],
   "source": [
    "from sklearn.model_selection import KFold\n",
    "from sklearn.model_selection import cross_val_score\n",
    "\n",
    "knn = KNeighborsClassifier(n_neighbors = 5)\n",
    "scores = cross_val_score(knn, x, y, cv=5, scoring='accuracy')\n",
    "print(scores)\n"
   ]
  },
  {
   "cell_type": "code",
   "execution_count": 31,
   "id": "05001cd0",
   "metadata": {
    "execution": {
     "iopub.execute_input": "2022-05-18T07:30:04.977802Z",
     "iopub.status.busy": "2022-05-18T07:30:04.977521Z",
     "iopub.status.idle": "2022-05-18T07:30:04.981762Z",
     "shell.execute_reply": "2022-05-18T07:30:04.981186Z"
    },
    "papermill": {
     "duration": 0.076663,
     "end_time": "2022-05-18T07:30:04.984652",
     "exception": false,
     "start_time": "2022-05-18T07:30:04.907989",
     "status": "completed"
    },
    "tags": []
   },
   "outputs": [
    {
     "name": "stdout",
     "output_type": "stream",
     "text": [
      "accuracy of model using cross validation 0.9475538160469668\n"
     ]
    }
   ],
   "source": [
    "print(\"accuracy of model using cross validation\",scores.mean())"
   ]
  },
  {
   "cell_type": "code",
   "execution_count": 32,
   "id": "b68a7d77",
   "metadata": {
    "execution": {
     "iopub.execute_input": "2022-05-18T07:30:05.126255Z",
     "iopub.status.busy": "2022-05-18T07:30:05.124927Z",
     "iopub.status.idle": "2022-05-18T07:30:16.005465Z",
     "shell.execute_reply": "2022-05-18T07:30:16.004684Z"
    },
    "papermill": {
     "duration": 10.952836,
     "end_time": "2022-05-18T07:30:16.007249",
     "exception": false,
     "start_time": "2022-05-18T07:30:05.054413",
     "status": "completed"
    },
    "tags": []
   },
   "outputs": [
    {
     "data": {
      "image/png": "[encoded data removed]",
      "text/plain": [
       "<Figure size 432x288 with 1 Axes>"
      ]
     },
     "metadata": {
      "needs_background": "light"
     },
     "output_type": "display_data"
    }
   ],
   "source": [
    "import matplotlib.pyplot as plt \n",
    "%matplotlib inline\n",
    "# choose k between 1 to 31\n",
    "k_range = range(1, 31)\n",
    "k_scores = []\n",
    "# use iteration to caclulator different k in models, then return the average accuracy based on the cross validation\n",
    "for k in k_range:\n",
    "    knn = KNeighborsClassifier(n_neighbors=k)\n",
    "    scores = cross_val_score(knn, x, y, cv=5, scoring='accuracy')\n",
    "    k_scores.append(scores.mean())\n",
    "# plot to see clearly\n",
    "plt.plot(k_range, k_scores)\n",
    "plt.xlabel('Value of K for KNN')\n",
    "plt.ylabel('Cross-Validated Accuracy')\n",
    "plt.show()"
   ]
  },
  {
   "cell_type": "markdown",
   "id": "2f12bfc3",
   "metadata": {
    "papermill": {
     "duration": 0.068358,
     "end_time": "2022-05-18T07:30:16.145563",
     "exception": false,
     "start_time": "2022-05-18T07:30:16.077205",
     "status": "completed"
    },
    "tags": []
   },
   "source": [
    "# Conclusion\n",
    "1. KNN algorithm is used to predict strock prediction\n",
    "2. Accuracy is almost 94%\n",
    "3. Its better to use Cross- validation i.e. K-fold method to check Accuracy\n",
    "4. We also Generate Classification Report"
   ]
  }
 ],
 "metadata": {
  "kernelspec": {
   "display_name": "Python 3",
   "language": "python",
   "name": "python3"
  },
  "language_info": {
   "codemirror_mode": {
    "name": "ipython",
    "version": 3
   },
   "file_extension": ".py",
   "mimetype": "text/x-python",
   "name": "python",
   "nbconvert_exporter": "python",
   "pygments_lexer": "ipython3",
   "version": "3.7.12"
  },
  "papermill": {
   "default_parameters": {},
   "duration": 33.775771,
   "end_time": "2022-05-18T07:30:17.238097",
   "environment_variables": {},
   "exception": null,
   "input_path": "__notebook__.ipynb",
   "output_path": "__notebook__.ipynb",
   "parameters": {},
   "start_time": "2022-05-18T07:29:43.462326",
   "version": "2.3.4"
  }
 },
 "nbformat": 4,
 "nbformat_minor": 5
}
